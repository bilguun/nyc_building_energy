{
 "cells": [
  {
   "cell_type": "code",
   "execution_count": 40,
   "metadata": {
    "collapsed": false
   },
   "outputs": [
    {
     "name": "stdout",
     "output_type": "stream",
     "text": [
      "Populating the interactive namespace from numpy and matplotlib\n"
     ]
    }
   ],
   "source": [
    "import pandas as pd\n",
    "import zipfile \n",
    "import glob, os\n",
    "import numpy as np\n",
    "import pylab as pl\n",
    "import json\n",
    "import urllib.request\n",
    "import statsmodels.formula.api as smf\n",
    "%pylab inline"
   ]
  },
  {
   "cell_type": "code",
   "execution_count": 2,
   "metadata": {
    "collapsed": false
   },
   "outputs": [],
   "source": [
    "ll84_2011 = pd.read_csv('Energy_and_Water_Data_Disclosure_for_Local_Law_84__2011_.csv')\n",
    "ll84_2012 = pd.read_csv('Energy_and_Water_Data_Disclosure_for_Local_Law_84__2012_.csv')\n",
    "ll84_2013 = pd.read_csv('Energy_and_Water_Data_Disclosure_for_Local_Law_84__2013_.csv')\n",
    "ll84_2014 = pd.read_csv('Energy_and_Water_Data_Disclosure_for_Local_Law__2014_.csv')"
   ]
  },
  {
   "cell_type": "code",
   "execution_count": 3,
   "metadata": {
    "collapsed": false
   },
   "outputs": [
    {
     "name": "stdout",
     "output_type": "stream",
     "text": [
      "Index(['BBL', 'Street Number', 'Street Name', 'Borough', 'Zip',\n",
      "       'Benchmarking Submission', 'Entry Number', 'Site EUI',\n",
      "       'Weather Normalized Source EUI', 'Water per Square Foot',\n",
      "       'ENERGY STAR Score', 'GHG', 'Reported Building Square Footage',\n",
      "       'Reported Facility Type', 'Number of Buildings', 'Reported BINs'],\n",
      "      dtype='object')\n",
      "Index(['BBL', 'Street Number', 'Street Name', 'Borough', 'Zip',\n",
      "       'Benchmarking Submission', 'Entry Number', 'Site EUI(kBtu/ft2)',\n",
      "       'Weather Normalized Source EUI(kBtu/ft2)',\n",
      "       'Indoor Water Intensity (All Water Sources)(gal/ft2)',\n",
      "       'Reported Water Method', 'ENERGY STAR Score',\n",
      "       'Total GHG Emissions(MtCO2e)',\n",
      "       'Property Floor Area (Buildngs and Parking)(ft2)',\n",
      "       'Primary Property Type - Self Selected', 'Number of Buildings',\n",
      "       'Reported BINs'],\n",
      "      dtype='object')\n",
      "Index(['Record Number', 'NYC Borough, Block, and Lot (BBL)',\n",
      "       'Co-reported BBL Status', 'BBLs Co-reported',\n",
      "       'Reported NYC Building Identificaiton Numbers (BINs)', 'Street Number',\n",
      "       'Street Name', 'Borough', 'Zip Code',\n",
      "       'DOF Benchmarking Submission Status', 'Site EUI(kBtu/ft2)',\n",
      "       'Weather Normalized Site EUI(kBtu/ft2)', 'Source EUI(kBtu/ft2)',\n",
      "       'Weather Normalized Source EUI(kBtu/ft2)',\n",
      "       'Municipally Supplied Potable Water - Indoor Intensity (gal/ft²)',\n",
      "       'Automatic Water Benchmarking Eligible', 'Reported Water Method',\n",
      "       'ENERGY STAR Score', 'Total GHG Emissions(MtCO2e)',\n",
      "       'Direct GHG Emissions(MtCO2e)', 'Indirect GHG Emissions(MtCO2e)',\n",
      "       'Reported Property Floor Area (Building(s)) (ft²)',\n",
      "       'DOF Property Floor Area (Buildngs and Parking)(ft2)',\n",
      "       'Primary Property Type - Self Selected', 'DOF Number of Buildings'],\n",
      "      dtype='object')\n",
      "Index(['Record Number', 'NYC Borough, Block, and Lot (BBL)',\n",
      "       'Co-reported BBL Status', 'BBLs Co-reported',\n",
      "       'Reported NYC Building Identification Numbers (BINs)', 'Street Number',\n",
      "       'Street Name', 'Borough', 'Zip Code',\n",
      "       'BBL on the Covered Buildings List',\n",
      "       'DOF Benchmarking Submission Status', 'Site EUI(kBtu/ft2)',\n",
      "       'Weather Normalized Site EUI(kBtu/ft2)', 'Source EUI(kBtu/ft2)',\n",
      "       'Weather Normalized Source EUI(kBtu/ft2)',\n",
      "       'Municipally Supplied Potable Water - Indoor Intensity (gal/ft²)',\n",
      "       'Automatic Water Benchmarking Eligible', 'Reported Water Method',\n",
      "       'ENERGY STAR Score', 'Total GHG Emissions(MtCO2e)',\n",
      "       'Direct GHG Emissions(MtCO2e)', 'Indirect GHG Emissions(MtCO2e)',\n",
      "       'Reported Property Floor Area (Building(s)) (ft²)',\n",
      "       'DOF Property Floor Area (Buildngs and Parking)(ft2)',\n",
      "       'Primary Property Type - Self Selected', 'DOF Number of Buildings'],\n",
      "      dtype='object')\n"
     ]
    }
   ],
   "source": [
    "print(ll84_2011.columns)\n",
    "print(ll84_2012.columns)\n",
    "print(ll84_2013.columns)\n",
    "print(ll84_2014.columns)"
   ]
  },
  {
   "cell_type": "code",
   "execution_count": 4,
   "metadata": {
    "collapsed": false
   },
   "outputs": [
    {
     "name": "stdout",
     "output_type": "stream",
     "text": [
      "******2011******\n",
      "4081\n",
      "2319\n",
      "******2012******\n",
      "14112\n",
      "11074\n",
      "******2013******\n",
      "16170\n",
      "16170\n",
      "******2014******\n",
      "13974\n",
      "13974\n"
     ]
    }
   ],
   "source": [
    "print(\"******2011******\")\n",
    "print(len(ll84_2011))\n",
    "print(len(ll84_2011[ ~isnan(ll84_2011['Site EUI']) ] ))\n",
    "\n",
    "\n",
    "print(\"******2012******\")\n",
    "print(len(ll84_2012))\n",
    "print(len(ll84_2012[ ~isnan(ll84_2012['Site EUI(kBtu/ft2)']) ] ))\n",
    "\n",
    "print(\"******2013******\")\n",
    "print(len(ll84_2013))\n",
    "print(len(ll84_2013[ ll84_2013['Site EUI(kBtu/ft2)'] != nan ] ))\n",
    "\n",
    "print(\"******2014******\")\n",
    "print(len(ll84_2014))\n",
    "print(len(ll84_2014[ ll84_2014['Site EUI(kBtu/ft2)'] != nan ] ))\n",
    "\n",
    "\n"
   ]
  },
  {
   "cell_type": "code",
   "execution_count": 5,
   "metadata": {
    "collapsed": false
   },
   "outputs": [],
   "source": [
    "# ll84_2011[ ~isnan(ll84_2011['Site EUI']) ]['Site EUI']"
   ]
  },
  {
   "cell_type": "code",
   "execution_count": 4,
   "metadata": {
    "collapsed": false
   },
   "outputs": [
    {
     "data": {
      "text/plain": [
       "Index(['Record Number', 'NYC Borough, Block, and Lot (BBL)',\n",
       "       'Co-reported BBL Status', 'BBLs Co-reported',\n",
       "       'Reported NYC Building Identification Numbers (BINs)', 'Street Number',\n",
       "       'Street Name', 'Borough', 'Zip Code',\n",
       "       'BBL on the Covered Buildings List',\n",
       "       'DOF Benchmarking Submission Status', 'Site EUI(kBtu/ft2)',\n",
       "       'Weather Normalized Site EUI(kBtu/ft2)', 'Source EUI(kBtu/ft2)',\n",
       "       'Weather Normalized Source EUI(kBtu/ft2)',\n",
       "       'Municipally Supplied Potable Water - Indoor Intensity (gal/ft²)',\n",
       "       'Automatic Water Benchmarking Eligible', 'Reported Water Method',\n",
       "       'ENERGY STAR Score', 'Total GHG Emissions(MtCO2e)',\n",
       "       'Direct GHG Emissions(MtCO2e)', 'Indirect GHG Emissions(MtCO2e)',\n",
       "       'Reported Property Floor Area (Building(s)) (ft²)',\n",
       "       'DOF Property Floor Area (Buildngs and Parking)(ft2)',\n",
       "       'Primary Property Type - Self Selected', 'DOF Number of Buildings'],\n",
       "      dtype='object')"
      ]
     },
     "execution_count": 4,
     "metadata": {},
     "output_type": "execute_result"
    }
   ],
   "source": [
    "ll84_2014.columns"
   ]
  },
  {
   "cell_type": "code",
   "execution_count": 5,
   "metadata": {
    "collapsed": false
   },
   "outputs": [
    {
     "data": {
      "text/html": [
       "<div>\n",
       "<table border=\"1\" class=\"dataframe\">\n",
       "  <thead>\n",
       "    <tr style=\"text-align: right;\">\n",
       "      <th></th>\n",
       "      <th>Record Number</th>\n",
       "      <th>NYC Borough, Block, and Lot (BBL)</th>\n",
       "      <th>Co-reported BBL Status</th>\n",
       "      <th>BBLs Co-reported</th>\n",
       "      <th>Reported NYC Building Identification Numbers (BINs)</th>\n",
       "      <th>Street Number</th>\n",
       "      <th>Street Name</th>\n",
       "      <th>Borough</th>\n",
       "      <th>Zip Code</th>\n",
       "      <th>BBL on the Covered Buildings List</th>\n",
       "      <th>...</th>\n",
       "      <th>Automatic Water Benchmarking Eligible</th>\n",
       "      <th>Reported Water Method</th>\n",
       "      <th>ENERGY STAR Score</th>\n",
       "      <th>Total GHG Emissions(MtCO2e)</th>\n",
       "      <th>Direct GHG Emissions(MtCO2e)</th>\n",
       "      <th>Indirect GHG Emissions(MtCO2e)</th>\n",
       "      <th>Reported Property Floor Area (Building(s)) (ft²)</th>\n",
       "      <th>DOF Property Floor Area (Buildngs and Parking)(ft2)</th>\n",
       "      <th>Primary Property Type - Self Selected</th>\n",
       "      <th>DOF Number of Buildings</th>\n",
       "    </tr>\n",
       "  </thead>\n",
       "  <tbody>\n",
       "    <tr>\n",
       "      <th>0</th>\n",
       "      <td>7365</td>\n",
       "      <td>1009970029</td>\n",
       "      <td>NaN</td>\n",
       "      <td>NaN</td>\n",
       "      <td>1022631</td>\n",
       "      <td>1155</td>\n",
       "      <td>AVENUE OF THE AMER</td>\n",
       "      <td>MANHATTAN</td>\n",
       "      <td>10036</td>\n",
       "      <td>Yes</td>\n",
       "      <td>...</td>\n",
       "      <td>No</td>\n",
       "      <td>None</td>\n",
       "      <td>90</td>\n",
       "      <td>3054.3</td>\n",
       "      <td>0</td>\n",
       "      <td>3054.3</td>\n",
       "      <td>686902</td>\n",
       "      <td>734668</td>\n",
       "      <td>Office</td>\n",
       "      <td>1</td>\n",
       "    </tr>\n",
       "    <tr>\n",
       "      <th>1</th>\n",
       "      <td>8139</td>\n",
       "      <td>1013150001</td>\n",
       "      <td>NaN</td>\n",
       "      <td>NaN</td>\n",
       "      <td>1037545</td>\n",
       "      <td>655</td>\n",
       "      <td>3 AVENUE</td>\n",
       "      <td>MANHATTAN</td>\n",
       "      <td>10017</td>\n",
       "      <td>Yes</td>\n",
       "      <td>...</td>\n",
       "      <td>No</td>\n",
       "      <td>None</td>\n",
       "      <td>86</td>\n",
       "      <td>2453.3</td>\n",
       "      <td>0</td>\n",
       "      <td>2453.3</td>\n",
       "      <td>384432</td>\n",
       "      <td>380000</td>\n",
       "      <td>Office</td>\n",
       "      <td>1</td>\n",
       "    </tr>\n",
       "    <tr>\n",
       "      <th>2</th>\n",
       "      <td>8604</td>\n",
       "      <td>1009990019</td>\n",
       "      <td>NaN</td>\n",
       "      <td>NaN</td>\n",
       "      <td>1022667</td>\n",
       "      <td>114</td>\n",
       "      <td>WEST   47 STREET</td>\n",
       "      <td>MANHATTAN</td>\n",
       "      <td>10036</td>\n",
       "      <td>Yes</td>\n",
       "      <td>...</td>\n",
       "      <td>No</td>\n",
       "      <td>None</td>\n",
       "      <td>84</td>\n",
       "      <td>2961.2</td>\n",
       "      <td>0</td>\n",
       "      <td>2961.2</td>\n",
       "      <td>572369</td>\n",
       "      <td>565000</td>\n",
       "      <td>Financial Office</td>\n",
       "      <td>1</td>\n",
       "    </tr>\n",
       "    <tr>\n",
       "      <th>3</th>\n",
       "      <td>8841</td>\n",
       "      <td>1013190047</td>\n",
       "      <td>NaN</td>\n",
       "      <td>NaN</td>\n",
       "      <td>1037596</td>\n",
       "      <td>733</td>\n",
       "      <td>3 AVENUE</td>\n",
       "      <td>MANHATTAN</td>\n",
       "      <td>10017</td>\n",
       "      <td>Yes</td>\n",
       "      <td>...</td>\n",
       "      <td>No</td>\n",
       "      <td>None</td>\n",
       "      <td>75</td>\n",
       "      <td>2731.4</td>\n",
       "      <td>0</td>\n",
       "      <td>2731.4</td>\n",
       "      <td>362578</td>\n",
       "      <td>405399</td>\n",
       "      <td>Office</td>\n",
       "      <td>1</td>\n",
       "    </tr>\n",
       "    <tr>\n",
       "      <th>4</th>\n",
       "      <td>11809</td>\n",
       "      <td>1009950005</td>\n",
       "      <td>NaN</td>\n",
       "      <td>NaN</td>\n",
       "      <td>1085682</td>\n",
       "      <td>1472</td>\n",
       "      <td>BROADWAY</td>\n",
       "      <td>MANHATTAN</td>\n",
       "      <td>10036</td>\n",
       "      <td>Yes</td>\n",
       "      <td>...</td>\n",
       "      <td>No</td>\n",
       "      <td>None</td>\n",
       "      <td>61</td>\n",
       "      <td>13661.8</td>\n",
       "      <td>2557.4</td>\n",
       "      <td>11104.4</td>\n",
       "      <td>1601977</td>\n",
       "      <td>1642675</td>\n",
       "      <td>Office</td>\n",
       "      <td>1</td>\n",
       "    </tr>\n",
       "  </tbody>\n",
       "</table>\n",
       "<p>5 rows × 26 columns</p>\n",
       "</div>"
      ],
      "text/plain": [
       "   Record Number  NYC Borough, Block, and Lot (BBL) Co-reported BBL Status  \\\n",
       "0           7365                         1009970029                    NaN   \n",
       "1           8139                         1013150001                    NaN   \n",
       "2           8604                         1009990019                    NaN   \n",
       "3           8841                         1013190047                    NaN   \n",
       "4          11809                         1009950005                    NaN   \n",
       "\n",
       "  BBLs Co-reported Reported NYC Building Identification Numbers (BINs)  \\\n",
       "0              NaN                                            1022631    \n",
       "1              NaN                                            1037545    \n",
       "2              NaN                                            1022667    \n",
       "3              NaN                                            1037596    \n",
       "4              NaN                                            1085682    \n",
       "\n",
       "  Street Number           Street Name    Borough  Zip Code  \\\n",
       "0          1155  AVENUE OF THE AMER    MANHATTAN     10036   \n",
       "1           655     3 AVENUE           MANHATTAN     10017   \n",
       "2           114  WEST   47 STREET      MANHATTAN     10036   \n",
       "3           733     3 AVENUE           MANHATTAN     10017   \n",
       "4          1472  BROADWAY              MANHATTAN     10036   \n",
       "\n",
       "  BBL on the Covered Buildings List           ...            \\\n",
       "0                               Yes           ...             \n",
       "1                               Yes           ...             \n",
       "2                               Yes           ...             \n",
       "3                               Yes           ...             \n",
       "4                               Yes           ...             \n",
       "\n",
       "  Automatic Water Benchmarking Eligible Reported Water Method  \\\n",
       "0                                    No                  None   \n",
       "1                                    No                  None   \n",
       "2                                    No                  None   \n",
       "3                                    No                  None   \n",
       "4                                    No                  None   \n",
       "\n",
       "  ENERGY STAR Score Total GHG Emissions(MtCO2e) Direct GHG Emissions(MtCO2e)  \\\n",
       "0                90                      3054.3                            0   \n",
       "1                86                      2453.3                            0   \n",
       "2                84                      2961.2                            0   \n",
       "3                75                      2731.4                            0   \n",
       "4                61                     13661.8                       2557.4   \n",
       "\n",
       "  Indirect GHG Emissions(MtCO2e)  \\\n",
       "0                         3054.3   \n",
       "1                         2453.3   \n",
       "2                         2961.2   \n",
       "3                         2731.4   \n",
       "4                        11104.4   \n",
       "\n",
       "  Reported Property Floor Area (Building(s)) (ft²)  \\\n",
       "0                                           686902   \n",
       "1                                           384432   \n",
       "2                                           572369   \n",
       "3                                           362578   \n",
       "4                                          1601977   \n",
       "\n",
       "  DOF Property Floor Area (Buildngs and Parking)(ft2)  \\\n",
       "0                                             734668    \n",
       "1                                             380000    \n",
       "2                                             565000    \n",
       "3                                             405399    \n",
       "4                                            1642675    \n",
       "\n",
       "  Primary Property Type - Self Selected DOF Number of Buildings  \n",
       "0                                Office                       1  \n",
       "1                                Office                       1  \n",
       "2                      Financial Office                       1  \n",
       "3                                Office                       1  \n",
       "4                                Office                       1  \n",
       "\n",
       "[5 rows x 26 columns]"
      ]
     },
     "execution_count": 5,
     "metadata": {},
     "output_type": "execute_result"
    }
   ],
   "source": [
    "ll84_2014.head()"
   ]
  },
  {
   "cell_type": "code",
   "execution_count": 11,
   "metadata": {
    "collapsed": false
   },
   "outputs": [],
   "source": [
    "# ll84_2014['Reported NYC Building Identification Numbers (BINs)']"
   ]
  },
  {
   "cell_type": "code",
   "execution_count": 68,
   "metadata": {
    "collapsed": false
   },
   "outputs": [],
   "source": [
    "mask = ( ll84_2014['Reported NYC Building Identification Numbers (BINs)'] != nan ) &  (ll84_2014['Site EUI(kBtu/ft2)'] != nan) & (ll84_2014['Primary Property Type - Self Selected'] == 'Multifamily Housing') & (ll84_2014['Total GHG Emissions(MtCO2e)'] != nan)\n",
    "buildings2014 = ll84_2014[ mask ]\n",
    "mask2 = ( buildings2014['Reported NYC Building Identification Numbers (BINs)'] != 'Not Available' ) & (buildings2014['Site EUI(kBtu/ft2)'] != 'Not Available') & (buildings2014['Total GHG Emissions(MtCO2e)'] != 'Not Available')\n",
    "buildings2014 = buildings2014[ mask2 ]\n",
    "mask3 = ( buildings2014['Reported NYC Building Identification Numbers (BINs)'] != 'See Primary BBL' ) & (buildings2014['Site EUI(kBtu/ft2)'] != 'See Primary BBL') & (buildings2014['Total GHG Emissions(MtCO2e)'] != 'See Primary BBL')\n",
    "buildings2014 = buildings2014[ mask3 ]\n"
   ]
  },
  {
   "cell_type": "code",
   "execution_count": 69,
   "metadata": {
    "collapsed": false
   },
   "outputs": [],
   "source": [
    "# buildings2014['Site EUI(kBtu/ft2)'].astype(float)"
   ]
  },
  {
   "cell_type": "code",
   "execution_count": 28,
   "metadata": {
    "collapsed": false
   },
   "outputs": [
    {
     "data": {
      "text/plain": [
       "Site EUI(kBtu/ft2)    1645283.2\n",
       "dtype: float64"
      ]
     },
     "execution_count": 28,
     "metadata": {},
     "output_type": "execute_result"
    }
   ],
   "source": [
    "buildings2014[['Site EUI(kBtu/ft2)']].astype(float).sum()"
   ]
  },
  {
   "cell_type": "code",
   "execution_count": 29,
   "metadata": {
    "collapsed": false
   },
   "outputs": [
    {
     "data": {
      "text/html": [
       "<div>\n",
       "<table border=\"1\" class=\"dataframe\">\n",
       "  <thead>\n",
       "    <tr style=\"text-align: right;\">\n",
       "      <th></th>\n",
       "      <th>Record Number</th>\n",
       "      <th>NYC Borough, Block, and Lot (BBL)</th>\n",
       "      <th>Co-reported BBL Status</th>\n",
       "      <th>BBLs Co-reported</th>\n",
       "      <th>Reported NYC Building Identification Numbers (BINs)</th>\n",
       "      <th>Street Number</th>\n",
       "      <th>Street Name</th>\n",
       "      <th>Borough</th>\n",
       "      <th>Zip Code</th>\n",
       "      <th>BBL on the Covered Buildings List</th>\n",
       "      <th>...</th>\n",
       "      <th>Automatic Water Benchmarking Eligible</th>\n",
       "      <th>Reported Water Method</th>\n",
       "      <th>ENERGY STAR Score</th>\n",
       "      <th>Total GHG Emissions(MtCO2e)</th>\n",
       "      <th>Direct GHG Emissions(MtCO2e)</th>\n",
       "      <th>Indirect GHG Emissions(MtCO2e)</th>\n",
       "      <th>Reported Property Floor Area (Building(s)) (ft²)</th>\n",
       "      <th>DOF Property Floor Area (Buildngs and Parking)(ft2)</th>\n",
       "      <th>Primary Property Type - Self Selected</th>\n",
       "      <th>DOF Number of Buildings</th>\n",
       "    </tr>\n",
       "  </thead>\n",
       "  <tbody>\n",
       "    <tr>\n",
       "      <th>80</th>\n",
       "      <td>1443214</td>\n",
       "      <td>1010890001</td>\n",
       "      <td>NaN</td>\n",
       "      <td>NaN</td>\n",
       "      <td>1085803</td>\n",
       "      <td>1</td>\n",
       "      <td>RIVER PLACE</td>\n",
       "      <td>MANHATTAN</td>\n",
       "      <td>10036</td>\n",
       "      <td>Yes</td>\n",
       "      <td>...</td>\n",
       "      <td>No</td>\n",
       "      <td>Manual</td>\n",
       "      <td>3</td>\n",
       "      <td>7540.9</td>\n",
       "      <td>4501.2</td>\n",
       "      <td>3039.7</td>\n",
       "      <td>887879</td>\n",
       "      <td>887879</td>\n",
       "      <td>Multifamily Housing</td>\n",
       "      <td>1</td>\n",
       "    </tr>\n",
       "    <tr>\n",
       "      <th>156</th>\n",
       "      <td>1847014</td>\n",
       "      <td>1010287501</td>\n",
       "      <td>NaN</td>\n",
       "      <td>NaN</td>\n",
       "      <td>1070014</td>\n",
       "      <td>235</td>\n",
       "      <td>WEST   56 STREET</td>\n",
       "      <td>MANHATTAN</td>\n",
       "      <td>10019</td>\n",
       "      <td>Yes</td>\n",
       "      <td>...</td>\n",
       "      <td>No</td>\n",
       "      <td>None</td>\n",
       "      <td>1</td>\n",
       "      <td>2097196.5</td>\n",
       "      <td>75.5</td>\n",
       "      <td>2097121</td>\n",
       "      <td>616000</td>\n",
       "      <td>729506</td>\n",
       "      <td>Multifamily Housing</td>\n",
       "      <td>1</td>\n",
       "    </tr>\n",
       "    <tr>\n",
       "      <th>159</th>\n",
       "      <td>1944274</td>\n",
       "      <td>4019370001</td>\n",
       "      <td>NaN</td>\n",
       "      <td>NaN</td>\n",
       "      <td>4047361</td>\n",
       "      <td>54-09</td>\n",
       "      <td>100 STREET</td>\n",
       "      <td>QUEENS</td>\n",
       "      <td>11368</td>\n",
       "      <td>Yes</td>\n",
       "      <td>...</td>\n",
       "      <td>Yes</td>\n",
       "      <td>None</td>\n",
       "      <td>54</td>\n",
       "      <td>681.5</td>\n",
       "      <td>423.5</td>\n",
       "      <td>258</td>\n",
       "      <td>133158</td>\n",
       "      <td>266316</td>\n",
       "      <td>Multifamily Housing</td>\n",
       "      <td>2</td>\n",
       "    </tr>\n",
       "    <tr>\n",
       "      <th>165</th>\n",
       "      <td>2008836</td>\n",
       "      <td>1000167517</td>\n",
       "      <td>NaN</td>\n",
       "      <td>NaN</td>\n",
       "      <td>1087842</td>\n",
       "      <td>70</td>\n",
       "      <td>BATTERY PLACE</td>\n",
       "      <td>MANHATTAN</td>\n",
       "      <td>10280</td>\n",
       "      <td>Yes</td>\n",
       "      <td>...</td>\n",
       "      <td>No</td>\n",
       "      <td>None</td>\n",
       "      <td>69</td>\n",
       "      <td>2513.8</td>\n",
       "      <td>1956.1</td>\n",
       "      <td>557.6</td>\n",
       "      <td>457771</td>\n",
       "      <td>508458</td>\n",
       "      <td>Multifamily Housing</td>\n",
       "      <td>1</td>\n",
       "    </tr>\n",
       "    <tr>\n",
       "      <th>166</th>\n",
       "      <td>2008956</td>\n",
       "      <td>1000160185</td>\n",
       "      <td>NaN</td>\n",
       "      <td>NaN</td>\n",
       "      <td>1086547</td>\n",
       "      <td>211</td>\n",
       "      <td>NORTH END AVENUE</td>\n",
       "      <td>MANHATTAN</td>\n",
       "      <td>10282</td>\n",
       "      <td>Yes</td>\n",
       "      <td>...</td>\n",
       "      <td>No</td>\n",
       "      <td>Manual</td>\n",
       "      <td>27</td>\n",
       "      <td>1676.8</td>\n",
       "      <td>997.2</td>\n",
       "      <td>679.6</td>\n",
       "      <td>300000</td>\n",
       "      <td>278142</td>\n",
       "      <td>Multifamily Housing</td>\n",
       "      <td>1</td>\n",
       "    </tr>\n",
       "  </tbody>\n",
       "</table>\n",
       "<p>5 rows × 26 columns</p>\n",
       "</div>"
      ],
      "text/plain": [
       "     Record Number  NYC Borough, Block, and Lot (BBL) Co-reported BBL Status  \\\n",
       "80         1443214                         1010890001                    NaN   \n",
       "156        1847014                         1010287501                    NaN   \n",
       "159        1944274                         4019370001                    NaN   \n",
       "165        2008836                         1000167517                    NaN   \n",
       "166        2008956                         1000160185                    NaN   \n",
       "\n",
       "    BBLs Co-reported Reported NYC Building Identification Numbers (BINs)  \\\n",
       "80               NaN                                            1085803    \n",
       "156              NaN                                            1070014    \n",
       "159              NaN                                            4047361    \n",
       "165              NaN                                            1087842    \n",
       "166              NaN                                            1086547    \n",
       "\n",
       "    Street Number           Street Name    Borough  Zip Code  \\\n",
       "80              1  RIVER PLACE           MANHATTAN     10036   \n",
       "156           235  WEST   56 STREET      MANHATTAN     10019   \n",
       "159         54-09   100 STREET              QUEENS     11368   \n",
       "165            70  BATTERY PLACE         MANHATTAN     10280   \n",
       "166           211  NORTH END AVENUE      MANHATTAN     10282   \n",
       "\n",
       "    BBL on the Covered Buildings List           ...            \\\n",
       "80                                Yes           ...             \n",
       "156                               Yes           ...             \n",
       "159                               Yes           ...             \n",
       "165                               Yes           ...             \n",
       "166                               Yes           ...             \n",
       "\n",
       "    Automatic Water Benchmarking Eligible Reported Water Method  \\\n",
       "80                                     No                Manual   \n",
       "156                                    No                  None   \n",
       "159                                   Yes                  None   \n",
       "165                                    No                  None   \n",
       "166                                    No                Manual   \n",
       "\n",
       "    ENERGY STAR Score Total GHG Emissions(MtCO2e)  \\\n",
       "80                  3                      7540.9   \n",
       "156                 1                   2097196.5   \n",
       "159                54                       681.5   \n",
       "165                69                      2513.8   \n",
       "166                27                      1676.8   \n",
       "\n",
       "    Direct GHG Emissions(MtCO2e) Indirect GHG Emissions(MtCO2e)  \\\n",
       "80                        4501.2                         3039.7   \n",
       "156                         75.5                        2097121   \n",
       "159                        423.5                            258   \n",
       "165                       1956.1                          557.6   \n",
       "166                        997.2                          679.6   \n",
       "\n",
       "    Reported Property Floor Area (Building(s)) (ft²)  \\\n",
       "80                                            887879   \n",
       "156                                           616000   \n",
       "159                                           133158   \n",
       "165                                           457771   \n",
       "166                                           300000   \n",
       "\n",
       "    DOF Property Floor Area (Buildngs and Parking)(ft2)  \\\n",
       "80                                              887879    \n",
       "156                                             729506    \n",
       "159                                             266316    \n",
       "165                                             508458    \n",
       "166                                             278142    \n",
       "\n",
       "    Primary Property Type - Self Selected DOF Number of Buildings  \n",
       "80                    Multifamily Housing                       1  \n",
       "156                   Multifamily Housing                       1  \n",
       "159                   Multifamily Housing                       2  \n",
       "165                   Multifamily Housing                       1  \n",
       "166                   Multifamily Housing                       1  \n",
       "\n",
       "[5 rows x 26 columns]"
      ]
     },
     "execution_count": 29,
     "metadata": {},
     "output_type": "execute_result"
    }
   ],
   "source": [
    "buildings2014.head()"
   ]
  },
  {
   "cell_type": "code",
   "execution_count": 34,
   "metadata": {
    "collapsed": false
   },
   "outputs": [
    {
     "name": "stdout",
     "output_type": "stream",
     "text": [
      "7888\n",
      "8552\n",
      "13974\n"
     ]
    }
   ],
   "source": [
    "print(len(buildings2014))\n",
    "print(len(ll84_2014[ll84_2014['Primary Property Type - Self Selected'] == 'Multifamily Housing']))\n",
    "print(len(ll84_2014))"
   ]
  },
  {
   "cell_type": "code",
   "execution_count": 85,
   "metadata": {
    "collapsed": false
   },
   "outputs": [
    {
     "data": {
      "text/plain": [
       "(array([7871,    2,    3,    2,    4,    4,    0,    1,    0,    1]),\n",
       " array([      0.  ,   11775.55,   23551.1 ,   35326.65,   47102.2 ,\n",
       "          58877.75,   70653.3 ,   82428.85,   94204.4 ,  105979.95,\n",
       "         117755.5 ]))"
      ]
     },
     "execution_count": 85,
     "metadata": {},
     "output_type": "execute_result"
    }
   ],
   "source": [
    "pl.histogram(buildings2014['Site EUI(kBtu/ft2)'])\n",
    "# pl.show()"
   ]
  },
  {
   "cell_type": "code",
   "execution_count": 43,
   "metadata": {
    "collapsed": true
   },
   "outputs": [],
   "source": [
    "income = pd.read_csv('income.csv')\n",
    "income.ctlabel = income.ctlabel.astype(float).astype(int)\n",
    "incomed = income[['ctlabel', 'median_household_income']].set_index('ctlabel').to_dict()\n",
    "incomed = incomed['median_household_income']"
   ]
  },
  {
   "cell_type": "code",
   "execution_count": 44,
   "metadata": {
    "collapsed": false
   },
   "outputs": [
    {
     "name": "stderr",
     "output_type": "stream",
     "text": [
      "/Users/MSAUSI2015/anaconda/lib/python3.4/site-packages/pandas/io/parsers.py:1170: DtypeWarning: Columns (6,7,8,10,27,50,52,53,77,79) have mixed types. Specify dtype option on import or set low_memory=False.\n",
      "  data = self._reader.read(nrows)\n",
      "/Users/MSAUSI2015/anaconda/lib/python3.4/site-packages/pandas/io/parsers.py:1170: DtypeWarning: Columns (4,6,7,8,10,11,50,52,53,77,79) have mixed types. Specify dtype option on import or set low_memory=False.\n",
      "  data = self._reader.read(nrows)\n"
     ]
    },
    {
     "name": "stdout",
     "output_type": "stream",
     "text": [
      "Index(['Borough', 'Block', 'Lot', 'CD', 'CT2010', 'CB2010', 'SchoolDist',\n",
      "       'Council', 'ZipCode', 'FireComp', 'PolicePrct', 'HealthArea', 'Address',\n",
      "       'ZoneDist1', 'ZoneDist2', 'ZoneDist3', 'ZoneDist4', 'Overlay1',\n",
      "       'Overlay2', 'SPDist1', 'SPDist2', 'LtdHeight', 'AllZoning1',\n",
      "       'AllZoning2', 'SplitZone', 'BldgClass', 'LandUse', 'Easements',\n",
      "       'OwnerType', 'OwnerName', 'LotArea', 'BldgArea', 'ComArea', 'ResArea',\n",
      "       'OfficeArea', 'RetailArea', 'GarageArea', 'StrgeArea', 'FactryArea',\n",
      "       'OtherArea', 'AreaSource', 'NumBldgs', 'NumFloors', 'UnitsRes',\n",
      "       'UnitsTotal', 'LotFront', 'LotDepth', 'BldgFront', 'BldgDepth', 'Ext',\n",
      "       'ProxCode', 'IrrLotCode', 'LotType', 'BsmtCode', 'AssessLand',\n",
      "       'AssessTot', 'ExemptLand', 'ExemptTot', 'YearBuilt', 'BuiltCode',\n",
      "       'YearAlter1', 'YearAlter2', 'HistDist', 'Landmark', 'BuiltFAR',\n",
      "       'ResidFAR', 'CommFAR', 'FacilFAR', 'BoroCode', 'BBL', 'CondoNo',\n",
      "       'Tract2010', 'XCoord', 'YCoord', 'ZoneMap', 'ZMCode', 'Sanborn',\n",
      "       'TaxMap', 'EDesigNum', 'APPBBL', 'APPDate', 'PLUTOMapID', 'Version'],\n",
      "      dtype='object')\n"
     ]
    },
    {
     "name": "stderr",
     "output_type": "stream",
     "text": [
      "/Users/MSAUSI2015/anaconda/lib/python3.4/site-packages/pandas/io/parsers.py:1170: DtypeWarning: Columns (6,7,10,11,50,52,53,77,79) have mixed types. Specify dtype option on import or set low_memory=False.\n",
      "  data = self._reader.read(nrows)\n"
     ]
    },
    {
     "data": {
      "text/html": [
       "<div>\n",
       "<table border=\"1\" class=\"dataframe\">\n",
       "  <thead>\n",
       "    <tr style=\"text-align: right;\">\n",
       "      <th></th>\n",
       "      <th>Borough</th>\n",
       "      <th>Block</th>\n",
       "      <th>Lot</th>\n",
       "      <th>CD</th>\n",
       "      <th>CT2010</th>\n",
       "      <th>CB2010</th>\n",
       "      <th>SchoolDist</th>\n",
       "      <th>Council</th>\n",
       "      <th>ZipCode</th>\n",
       "      <th>FireComp</th>\n",
       "      <th>...</th>\n",
       "      <th>YCoord</th>\n",
       "      <th>ZoneMap</th>\n",
       "      <th>ZMCode</th>\n",
       "      <th>Sanborn</th>\n",
       "      <th>TaxMap</th>\n",
       "      <th>EDesigNum</th>\n",
       "      <th>APPBBL</th>\n",
       "      <th>APPDate</th>\n",
       "      <th>PLUTOMapID</th>\n",
       "      <th>Version</th>\n",
       "    </tr>\n",
       "  </thead>\n",
       "  <tbody>\n",
       "    <tr>\n",
       "      <th>0</th>\n",
       "      <td>MN</td>\n",
       "      <td>1</td>\n",
       "      <td>10</td>\n",
       "      <td>101</td>\n",
       "      <td>5</td>\n",
       "      <td>1018</td>\n",
       "      <td>2</td>\n",
       "      <td>1</td>\n",
       "      <td>10004</td>\n",
       "      <td>E007</td>\n",
       "      <td>...</td>\n",
       "      <td>190225</td>\n",
       "      <td>16a</td>\n",
       "      <td>Y</td>\n",
       "      <td>199 999</td>\n",
       "      <td>10101</td>\n",
       "      <td></td>\n",
       "      <td>0</td>\n",
       "      <td></td>\n",
       "      <td>1</td>\n",
       "      <td>15v1</td>\n",
       "    </tr>\n",
       "    <tr>\n",
       "      <th>1</th>\n",
       "      <td>MN</td>\n",
       "      <td>1</td>\n",
       "      <td>101</td>\n",
       "      <td>101</td>\n",
       "      <td>1</td>\n",
       "      <td>1001</td>\n",
       "      <td>2</td>\n",
       "      <td>1</td>\n",
       "      <td>10004</td>\n",
       "      <td>E007</td>\n",
       "      <td>...</td>\n",
       "      <td>190636</td>\n",
       "      <td>16a</td>\n",
       "      <td>Y</td>\n",
       "      <td>199 999</td>\n",
       "      <td>10101</td>\n",
       "      <td></td>\n",
       "      <td>0</td>\n",
       "      <td></td>\n",
       "      <td>1</td>\n",
       "      <td>15v1</td>\n",
       "    </tr>\n",
       "    <tr>\n",
       "      <th>2</th>\n",
       "      <td>MN</td>\n",
       "      <td>1</td>\n",
       "      <td>201</td>\n",
       "      <td>101</td>\n",
       "      <td>1</td>\n",
       "      <td>1000</td>\n",
       "      <td>2</td>\n",
       "      <td>1</td>\n",
       "      <td>10004</td>\n",
       "      <td>E007</td>\n",
       "      <td>...</td>\n",
       "      <td>193648</td>\n",
       "      <td>12b</td>\n",
       "      <td></td>\n",
       "      <td>199 999</td>\n",
       "      <td>10101</td>\n",
       "      <td></td>\n",
       "      <td>0</td>\n",
       "      <td></td>\n",
       "      <td>1</td>\n",
       "      <td>15v1</td>\n",
       "    </tr>\n",
       "    <tr>\n",
       "      <th>3</th>\n",
       "      <td>MN</td>\n",
       "      <td>1</td>\n",
       "      <td>301</td>\n",
       "      <td>101</td>\n",
       "      <td></td>\n",
       "      <td></td>\n",
       "      <td>2</td>\n",
       "      <td>1</td>\n",
       "      <td>10004</td>\n",
       "      <td>E007</td>\n",
       "      <td>...</td>\n",
       "      <td></td>\n",
       "      <td>12b</td>\n",
       "      <td></td>\n",
       "      <td>199 999</td>\n",
       "      <td>10101</td>\n",
       "      <td></td>\n",
       "      <td>0</td>\n",
       "      <td></td>\n",
       "      <td>4</td>\n",
       "      <td>15v1</td>\n",
       "    </tr>\n",
       "    <tr>\n",
       "      <th>4</th>\n",
       "      <td>MN</td>\n",
       "      <td>1</td>\n",
       "      <td>401</td>\n",
       "      <td>101</td>\n",
       "      <td></td>\n",
       "      <td></td>\n",
       "      <td>2</td>\n",
       "      <td>1</td>\n",
       "      <td>10004</td>\n",
       "      <td>E007</td>\n",
       "      <td>...</td>\n",
       "      <td></td>\n",
       "      <td>12b</td>\n",
       "      <td></td>\n",
       "      <td>1 99 999</td>\n",
       "      <td>10101</td>\n",
       "      <td></td>\n",
       "      <td>0</td>\n",
       "      <td></td>\n",
       "      <td>4</td>\n",
       "      <td>15v1</td>\n",
       "    </tr>\n",
       "  </tbody>\n",
       "</table>\n",
       "<p>5 rows × 83 columns</p>\n",
       "</div>"
      ],
      "text/plain": [
       "  Borough  Block  Lot   CD   CT2010 CB2010 SchoolDist Council ZipCode  \\\n",
       "0      MN      1   10  101        5   1018          2       1   10004   \n",
       "1      MN      1  101  101        1   1001          2       1   10004   \n",
       "2      MN      1  201  101        1   1000          2       1   10004   \n",
       "3      MN      1  301  101                          2       1   10004   \n",
       "4      MN      1  401  101                          2       1   10004   \n",
       "\n",
       "  FireComp   ...     YCoord ZoneMap ZMCode   Sanborn TaxMap EDesigNum APPBBL  \\\n",
       "0     E007   ...     190225     16a      Y  199 999   10101                0   \n",
       "1     E007   ...     190636     16a      Y  199 999   10101                0   \n",
       "2     E007   ...     193648     12b         199 999   10101                0   \n",
       "3     E007   ...                12b         199 999   10101                0   \n",
       "4     E007   ...                12b         1 99 999  10101                0   \n",
       "\n",
       "      APPDate PLUTOMapID Version  \n",
       "0                      1  15v1    \n",
       "1                      1  15v1    \n",
       "2                      1  15v1    \n",
       "3                      4  15v1    \n",
       "4                      4  15v1    \n",
       "\n",
       "[5 rows x 83 columns]"
      ]
     },
     "execution_count": 44,
     "metadata": {},
     "output_type": "execute_result"
    }
   ],
   "source": [
    "mnPluto = pd.read_csv('nyc_pluto_15v1/Mn.csv')\n",
    "bkPluto = pd.read_csv('nyc_pluto_15v1/BK.csv')\n",
    "bxPluto = pd.read_csv('nyc_pluto_15v1/BK.csv')\n",
    "siPluto = pd.read_csv('nyc_pluto_15v1/SI.csv')\n",
    "qnPluto = pd.read_csv('nyc_pluto_15v1/QN.csv')\n",
    "print(mnPluto.columns)\n",
    "mnPluto.head()"
   ]
  },
  {
   "cell_type": "code",
   "execution_count": 45,
   "metadata": {
    "collapsed": true
   },
   "outputs": [],
   "source": [
    "nycPluto = pd.concat([mnPluto, bkPluto, bxPluto, qnPluto, siPluto])"
   ]
  },
  {
   "cell_type": "code",
   "execution_count": 70,
   "metadata": {
    "collapsed": false
   },
   "outputs": [],
   "source": [
    "buildings2014 = buildings2014.rename(columns={'NYC Borough, Block, and Lot (BBL)': 'BBL'});"
   ]
  },
  {
   "cell_type": "code",
   "execution_count": 71,
   "metadata": {
    "collapsed": false
   },
   "outputs": [
    {
     "data": {
      "text/plain": [
       "Index(['Record Number', 'BBL', 'Co-reported BBL Status', 'BBLs Co-reported',\n",
       "       'Reported NYC Building Identification Numbers (BINs)', 'Street Number',\n",
       "       'Street Name', 'Borough', 'Zip Code',\n",
       "       'BBL on the Covered Buildings List',\n",
       "       'DOF Benchmarking Submission Status', 'Site EUI(kBtu/ft2)',\n",
       "       'Weather Normalized Site EUI(kBtu/ft2)', 'Source EUI(kBtu/ft2)',\n",
       "       'Weather Normalized Source EUI(kBtu/ft2)',\n",
       "       'Municipally Supplied Potable Water - Indoor Intensity (gal/ft²)',\n",
       "       'Automatic Water Benchmarking Eligible', 'Reported Water Method',\n",
       "       'ENERGY STAR Score', 'Total GHG Emissions(MtCO2e)',\n",
       "       'Direct GHG Emissions(MtCO2e)', 'Indirect GHG Emissions(MtCO2e)',\n",
       "       'Reported Property Floor Area (Building(s)) (ft²)',\n",
       "       'DOF Property Floor Area (Buildngs and Parking)(ft2)',\n",
       "       'Primary Property Type - Self Selected', 'DOF Number of Buildings'],\n",
       "      dtype='object')"
      ]
     },
     "execution_count": 71,
     "metadata": {},
     "output_type": "execute_result"
    }
   ],
   "source": [
    "buildings2014.columns"
   ]
  },
  {
   "cell_type": "code",
   "execution_count": 76,
   "metadata": {
    "collapsed": false
   },
   "outputs": [
    {
     "data": {
      "text/plain": [
       "Record Number                                                      float64\n",
       "BBL                                                                  int64\n",
       "Co-reported BBL Status                                              object\n",
       "BBLs Co-reported                                                    object\n",
       "Reported NYC Building Identification Numbers (BINs)                float64\n",
       "Street Number                                                      float64\n",
       "Street Name                                                         object\n",
       "Borough                                                             object\n",
       "Zip Code                                                           float64\n",
       "BBL on the Covered Buildings List                                   object\n",
       "DOF Benchmarking Submission Status                                  object\n",
       "Site EUI(kBtu/ft2)                                                 float64\n",
       "Weather Normalized Site EUI(kBtu/ft2)                              float64\n",
       "Source EUI(kBtu/ft2)                                               float64\n",
       "Weather Normalized Source EUI(kBtu/ft2)                            float64\n",
       "Municipally Supplied Potable Water - Indoor Intensity (gal/ft²)    float64\n",
       "Automatic Water Benchmarking Eligible                               object\n",
       "Reported Water Method                                               object\n",
       "ENERGY STAR Score                                                  float64\n",
       "Total GHG Emissions(MtCO2e)                                        float64\n",
       "Direct GHG Emissions(MtCO2e)                                       float64\n",
       "Indirect GHG Emissions(MtCO2e)                                     float64\n",
       "Reported Property Floor Area (Building(s)) (ft²)                     int64\n",
       "DOF Property Floor Area (Buildngs and Parking)(ft2)                float64\n",
       "Primary Property Type - Self Selected                               object\n",
       "DOF Number of Buildings                                            float64\n",
       "dtype: object"
      ]
     },
     "execution_count": 76,
     "metadata": {},
     "output_type": "execute_result"
    }
   ],
   "source": [
    "buildings2014.dtypes"
   ]
  },
  {
   "cell_type": "code",
   "execution_count": 75,
   "metadata": {
    "collapsed": false
   },
   "outputs": [],
   "source": [
    "buildings2014 = buildings2014.convert_objects(convert_numeric=True)"
   ]
  },
  {
   "cell_type": "code",
   "execution_count": 77,
   "metadata": {
    "collapsed": false
   },
   "outputs": [
    {
     "data": {
      "text/plain": [
       "43231"
      ]
     },
     "execution_count": 77,
     "metadata": {},
     "output_type": "execute_result"
    }
   ],
   "source": [
    "len(mnPluto)"
   ]
  },
  {
   "cell_type": "code",
   "execution_count": 78,
   "metadata": {
    "collapsed": false
   },
   "outputs": [
    {
     "data": {
      "text/plain": [
       "7995"
      ]
     },
     "execution_count": 78,
     "metadata": {},
     "output_type": "execute_result"
    }
   ],
   "source": [
    "nycBuildings2014 = pd.merge(buildings2014,nycPluto,on='BBL')\n",
    "len(nycBuildings2014)"
   ]
  },
  {
   "cell_type": "code",
   "execution_count": 79,
   "metadata": {
    "collapsed": false
   },
   "outputs": [
    {
     "data": {
      "text/plain": [
       "3165"
      ]
     },
     "execution_count": 79,
     "metadata": {},
     "output_type": "execute_result"
    }
   ],
   "source": [
    "mnBuildings2014 = pd.merge(buildings2014,mnPluto,on='BBL')\n",
    "len(mnBuildings2014)"
   ]
  },
  {
   "cell_type": "code",
   "execution_count": 80,
   "metadata": {
    "collapsed": false
   },
   "outputs": [
    {
     "data": {
      "text/plain": [
       "1679"
      ]
     },
     "execution_count": 80,
     "metadata": {},
     "output_type": "execute_result"
    }
   ],
   "source": [
    "bkBuildings2014 = pd.merge(buildings2014,bkPluto,on='BBL')\n",
    "len(bkBuildings2014)"
   ]
  },
  {
   "cell_type": "code",
   "execution_count": 81,
   "metadata": {
    "collapsed": false
   },
   "outputs": [
    {
     "data": {
      "text/plain": [
       "1679"
      ]
     },
     "execution_count": 81,
     "metadata": {},
     "output_type": "execute_result"
    }
   ],
   "source": [
    "bxBuildings2014 = pd.merge(buildings2014,bxPluto,on='BBL')\n",
    "len(bxBuildings2014)"
   ]
  },
  {
   "cell_type": "code",
   "execution_count": 82,
   "metadata": {
    "collapsed": false
   },
   "outputs": [
    {
     "data": {
      "text/plain": [
       "1403"
      ]
     },
     "execution_count": 82,
     "metadata": {},
     "output_type": "execute_result"
    }
   ],
   "source": [
    "qnBuildings2014 = pd.merge(buildings2014,qnPluto,on='BBL')\n",
    "len(qnBuildings2014)"
   ]
  },
  {
   "cell_type": "code",
   "execution_count": 83,
   "metadata": {
    "collapsed": false
   },
   "outputs": [
    {
     "data": {
      "text/plain": [
       "69"
      ]
     },
     "execution_count": 83,
     "metadata": {},
     "output_type": "execute_result"
    }
   ],
   "source": [
    "siBuildings2014 = pd.merge(buildings2014,siPluto,on='BBL')\n",
    "len(siBuildings2014)"
   ]
  },
  {
   "cell_type": "code",
   "execution_count": 27,
   "metadata": {
    "collapsed": false
   },
   "outputs": [],
   "source": [
    "# print(mnBuildings2012.columns)\n",
    "# mnBuildings2012.loc[0]"
   ]
  },
  {
   "cell_type": "code",
   "execution_count": 84,
   "metadata": {
    "collapsed": false
   },
   "outputs": [
    {
     "data": {
      "text/plain": [
       "count      3165.000000\n",
       "mean        362.655735\n",
       "std        4202.097120\n",
       "min           0.100000\n",
       "25%          69.500000\n",
       "50%          85.400000\n",
       "75%         104.900000\n",
       "max      117755.500000\n",
       "Name: Site EUI(kBtu/ft2), dtype: float64"
      ]
     },
     "execution_count": 84,
     "metadata": {},
     "output_type": "execute_result"
    }
   ],
   "source": [
    "mnBuildings2014['Site EUI(kBtu/ft2)'].describe()"
   ]
  },
  {
   "cell_type": "code",
   "execution_count": 86,
   "metadata": {
    "collapsed": false,
    "scrolled": false
   },
   "outputs": [],
   "source": [
    "# mnBuildings2012['totalEUI'] = mnBuildings2012['Site EUI(kBtu/ft2)'] * mnBuildings2012['Property Floor Area (Buildngs and Parking)(ft2)']"
   ]
  },
  {
   "cell_type": "code",
   "execution_count": 87,
   "metadata": {
    "collapsed": false
   },
   "outputs": [],
   "source": [
    "# totalEUI = mnBuildings2012[mnBuildings2012.totalEUI<2*10e6].totalEUI.tolist()"
   ]
  },
  {
   "cell_type": "code",
   "execution_count": 88,
   "metadata": {
    "collapsed": false
   },
   "outputs": [],
   "source": [
    "# totalEUI = sorted(totalEUI)"
   ]
  },
  {
   "cell_type": "code",
   "execution_count": 89,
   "metadata": {
    "collapsed": false
   },
   "outputs": [],
   "source": [
    "# plt.ylim(0,1e7)\n",
    "# plt.hist(totalEUI, 50)"
   ]
  },
  {
   "cell_type": "code",
   "execution_count": 91,
   "metadata": {
    "collapsed": false
   },
   "outputs": [
    {
     "name": "stdout",
     "output_type": "stream",
     "text": [
      "3137\n"
     ]
    }
   ],
   "source": [
    "siteEUI = mnBuildings2014[mnBuildings2014['Site EUI(kBtu/ft2)']<300]['Site EUI(kBtu/ft2)'].tolist()\n",
    "print(len(siteEUI))\n",
    "# plt.hist(siteEUI,50);"
   ]
  },
  {
   "cell_type": "code",
   "execution_count": 92,
   "metadata": {
    "collapsed": false
   },
   "outputs": [
    {
     "data": {
      "image/png": "[encoded data removed]",
      "text/plain": [
       "<matplotlib.figure.Figure at 0x10bb670b8>"
      ]
     },
     "metadata": {},
     "output_type": "display_data"
    }
   ],
   "source": [
    "plt.hist(siteEUI,50);"
   ]
  },
  {
   "cell_type": "code",
   "execution_count": 96,
   "metadata": {
    "collapsed": false
   },
   "outputs": [
    {
     "name": "stdout",
     "output_type": "stream",
     "text": [
      "['Record Number', 'BBL', 'Co-reported BBL Status', 'BBLs Co-reported', 'Reported NYC Building Identification Numbers (BINs)', 'Street Number', 'Street Name', 'Borough_x', 'Zip Code', 'BBL on the Covered Buildings List', 'DOF Benchmarking Submission Status', 'Site EUI(kBtu/ft2)', 'Weather Normalized Site EUI(kBtu/ft2)', 'Source EUI(kBtu/ft2)', 'Weather Normalized Source EUI(kBtu/ft2)', 'Municipally Supplied Potable Water - Indoor Intensity (gal/ft²)', 'Automatic Water Benchmarking Eligible', 'Reported Water Method', 'ENERGY STAR Score', 'Total GHG Emissions(MtCO2e)', 'Direct GHG Emissions(MtCO2e)', 'Indirect GHG Emissions(MtCO2e)', 'Reported Property Floor Area (Building(s)) (ft²)', 'DOF Property Floor Area (Buildngs and Parking)(ft2)', 'Primary Property Type - Self Selected', 'DOF Number of Buildings', 'Borough_y', 'Block', 'Lot', 'CD', 'CT2010', 'CB2010', 'SchoolDist', 'Council', 'ZipCode', 'FireComp', 'PolicePrct', 'HealthArea', 'Address', 'ZoneDist1', 'ZoneDist2', 'ZoneDist3', 'ZoneDist4', 'Overlay1', 'Overlay2', 'SPDist1', 'SPDist2', 'LtdHeight', 'AllZoning1', 'AllZoning2', 'SplitZone', 'BldgClass', 'LandUse', 'Easements', 'OwnerType', 'OwnerName', 'LotArea', 'BldgArea', 'ComArea', 'ResArea', 'OfficeArea', 'RetailArea', 'GarageArea', 'StrgeArea', 'FactryArea', 'OtherArea', 'AreaSource', 'NumBldgs', 'NumFloors', 'UnitsRes', 'UnitsTotal', 'LotFront', 'LotDepth', 'BldgFront', 'BldgDepth', 'Ext', 'ProxCode', 'IrrLotCode', 'LotType', 'BsmtCode', 'AssessLand', 'AssessTot', 'ExemptLand', 'ExemptTot', 'YearBuilt', 'BuiltCode', 'YearAlter1', 'YearAlter2', 'HistDist', 'Landmark', 'BuiltFAR', 'ResidFAR', 'CommFAR', 'FacilFAR', 'BoroCode', 'CondoNo', 'Tract2010', 'XCoord', 'YCoord', 'ZoneMap', 'ZMCode', 'Sanborn', 'TaxMap', 'EDesigNum', 'APPBBL', 'APPDate', 'PLUTOMapID', 'Version']\n"
     ]
    }
   ],
   "source": [
    "print(mnBuildings2014.columns.tolist())"
   ]
  },
  {
   "cell_type": "code",
   "execution_count": 105,
   "metadata": {
    "collapsed": false
   },
   "outputs": [],
   "source": [
    "mnBuildings2014En = mnBuildings2014[mnBuildings2014['Site EUI(kBtu/ft2)']<300][['Site EUI(kBtu/ft2)', \n",
    "                                   'ZipCode',\n",
    "                                   'DOF Number of Buildings', 'UnitsRes', 'UnitsTotal', 'YearBuilt',\n",
    "                                   'LotArea', 'NumFloors', 'ResArea', 'RetailArea', 'AssessTot', \n",
    "                                    'CommFAR', 'FacilFAR', 'BuiltFAR', 'ResidFAR',\n",
    "                                    'LotArea', 'LotFront', 'LotDepth', 'BldgFront', 'Direct GHG Emissions(MtCO2e)', \n",
    "                                    'Indirect GHG Emissions(MtCO2e)', 'Reported Property Floor Area (Building(s)) (ft²)', \n",
    "                                    'CB2010', 'CT2010', 'Total GHG Emissions(MtCO2e)'\n",
    "                                    ,'Municipally Supplied Potable Water - Indoor Intensity (gal/ft²)'\n",
    "                                    , 'ProxCode', 'LtdHeight', 'HistDist'\n",
    "                                    , 'BldgArea', 'ComArea', 'OfficeArea', 'RetailArea', \n",
    "                                    'GarageArea', 'StrgeArea','FactryArea', 'OtherArea']]\n",
    "\n",
    "mnBuildings2014En = mnBuildings2014En.rename(columns={'Site EUI(kBtu/ft2)': 'siteEUI'\n",
    "                                 ,'Reported Property Floor Area (Building(s)) (ft²)' : 'floorArea'\n",
    "                                 , 'DOF Number of Buildings' : 'numBldgs'\n",
    "                                 , 'Total GHG Emissions(MtCO2e)' : 'GHG'\n",
    "                                 , 'Direct GHG Emissions(MtCO2e)' : 'DirectGHG' \n",
    "                                 , 'Indirect GHG Emissions(MtCO2e)' : 'InderectGHG'\n",
    "                                 ,'Municipally Supplied Potable Water - Indoor Intensity (gal/ft²)':'water'})\n",
    "\n",
    "mnBuildings2014En['totalEUI'] = mnBuildings2014En.siteEUI * mnBuildings2014En.floorArea\n",
    "mnBuildings2014En['age20'] = mnBuildings2014En['YearBuilt'] > 1995\n",
    "mnBuildings2014En['age40'] = (mnBuildings2014En['YearBuilt'] > 1975) & ( mnBuildings2014En['YearBuilt'] < 1995)\n",
    "mnBuildings2014En['age60'] = (mnBuildings2014En['YearBuilt'] > 1955) & (mnBuildings2014En['YearBuilt'] < 1975)\n",
    "mnBuildings2014En['age60ab'] = mnBuildings2014En['YearBuilt'] < 1955\n",
    "mnBuildings2014En['nonRes'] = mnBuildings2014En.floorArea.astype(float) -  mnBuildings2014En.ResArea.astype(float)\n",
    "mnBuildings2014En[\"CT2010\"] = mnBuildings2014En[\"CT2010\"].astype(float).astype(int)\n",
    "mnBuildings2014En['income'] = mnBuildings2014En[\"CT2010\"].map(incomed.get)\n",
    "mnBuildings2014En = mnBuildings2014En[mnBuildings2014En.income>0]"
   ]
  },
  {
   "cell_type": "code",
   "execution_count": 106,
   "metadata": {
    "collapsed": false
   },
   "outputs": [
    {
     "data": {
      "text/html": [
       "<table class=\"simpletable\">\n",
       "<caption>OLS Regression Results</caption>\n",
       "<tr>\n",
       "  <th>Dep. Variable:</th>         <td>siteEUI</td>     <th>  R-squared:         </th> <td>   0.011</td> \n",
       "</tr>\n",
       "<tr>\n",
       "  <th>Model:</th>                   <td>OLS</td>       <th>  Adj. R-squared:    </th> <td>   0.009</td> \n",
       "</tr>\n",
       "<tr>\n",
       "  <th>Method:</th>             <td>Least Squares</td>  <th>  F-statistic:       </th> <td>   6.747</td> \n",
       "</tr>\n",
       "<tr>\n",
       "  <th>Date:</th>             <td>Wed, 16 Dec 2015</td> <th>  Prob (F-statistic):</th> <td>2.90e-06</td> \n",
       "</tr>\n",
       "<tr>\n",
       "  <th>Time:</th>                 <td>00:20:06</td>     <th>  Log-Likelihood:    </th> <td> -14852.</td> \n",
       "</tr>\n",
       "<tr>\n",
       "  <th>No. Observations:</th>      <td>  3033</td>      <th>  AIC:               </th> <td>2.972e+04</td>\n",
       "</tr>\n",
       "<tr>\n",
       "  <th>Df Residuals:</th>          <td>  3027</td>      <th>  BIC:               </th> <td>2.975e+04</td>\n",
       "</tr>\n",
       "<tr>\n",
       "  <th>Df Model:</th>              <td>     5</td>      <th>                     </th>     <td> </td>    \n",
       "</tr>\n",
       "<tr>\n",
       "  <th>Covariance Type:</th>      <td>nonrobust</td>    <th>                     </th>     <td> </td>    \n",
       "</tr>\n",
       "</table>\n",
       "<table class=\"simpletable\">\n",
       "<tr>\n",
       "           <td></td>             <th>coef</th>     <th>std err</th>      <th>t</th>      <th>P>|t|</th> <th>[95.0% Conf. Int.]</th> \n",
       "</tr>\n",
       "<tr>\n",
       "  <th>Intercept</th>          <td>   90.3428</td> <td>    1.499</td> <td>   60.266</td> <td> 0.000</td> <td>   87.404    93.282</td>\n",
       "</tr>\n",
       "<tr>\n",
       "  <th>LtdHeight[T.LH-1 ]</th> <td>    2.6578</td> <td>   22.934</td> <td>    0.116</td> <td> 0.908</td> <td>  -42.310    47.625</td>\n",
       "</tr>\n",
       "<tr>\n",
       "  <th>LtdHeight[T.LH-1A]</th> <td>  -16.3626</td> <td>    4.199</td> <td>   -3.897</td> <td> 0.000</td> <td>  -24.595    -8.130</td>\n",
       "</tr>\n",
       "<tr>\n",
       "  <th>I(income / 10000)</th>  <td>   -0.8168</td> <td>    0.241</td> <td>   -3.384</td> <td> 0.001</td> <td>   -1.290    -0.344</td>\n",
       "</tr>\n",
       "<tr>\n",
       "  <th>NumFloors</th>          <td>    0.1972</td> <td>    0.068</td> <td>    2.898</td> <td> 0.004</td> <td>    0.064     0.331</td>\n",
       "</tr>\n",
       "<tr>\n",
       "  <th>floorArea</th>          <td>-3.545e-06</td> <td> 2.39e-06</td> <td>   -1.480</td> <td> 0.139</td> <td>-8.24e-06  1.15e-06</td>\n",
       "</tr>\n",
       "</table>\n",
       "<table class=\"simpletable\">\n",
       "<tr>\n",
       "  <th>Omnibus:</th>       <td>491.861</td> <th>  Durbin-Watson:     </th> <td>   1.735</td>\n",
       "</tr>\n",
       "<tr>\n",
       "  <th>Prob(Omnibus):</th> <td> 0.000</td>  <th>  Jarque-Bera (JB):  </th> <td>1465.165</td>\n",
       "</tr>\n",
       "<tr>\n",
       "  <th>Skew:</th>          <td> 0.840</td>  <th>  Prob(JB):          </th> <td>    0.00</td>\n",
       "</tr>\n",
       "<tr>\n",
       "  <th>Kurtosis:</th>      <td> 5.961</td>  <th>  Cond. No.          </th> <td>1.24e+07</td>\n",
       "</tr>\n",
       "</table>"
      ],
      "text/plain": [
       "<class 'statsmodels.iolib.summary.Summary'>\n",
       "\"\"\"\n",
       "                            OLS Regression Results                            \n",
       "==============================================================================\n",
       "Dep. Variable:                siteEUI   R-squared:                       0.011\n",
       "Model:                            OLS   Adj. R-squared:                  0.009\n",
       "Method:                 Least Squares   F-statistic:                     6.747\n",
       "Date:                Wed, 16 Dec 2015   Prob (F-statistic):           2.90e-06\n",
       "Time:                        00:20:06   Log-Likelihood:                -14852.\n",
       "No. Observations:                3033   AIC:                         2.972e+04\n",
       "Df Residuals:                    3027   BIC:                         2.975e+04\n",
       "Df Model:                           5                                         \n",
       "Covariance Type:            nonrobust                                         \n",
       "======================================================================================\n",
       "                         coef    std err          t      P>|t|      [95.0% Conf. Int.]\n",
       "--------------------------------------------------------------------------------------\n",
       "Intercept             90.3428      1.499     60.266      0.000        87.404    93.282\n",
       "LtdHeight[T.LH-1 ]     2.6578     22.934      0.116      0.908       -42.310    47.625\n",
       "LtdHeight[T.LH-1A]   -16.3626      4.199     -3.897      0.000       -24.595    -8.130\n",
       "I(income / 10000)     -0.8168      0.241     -3.384      0.001        -1.290    -0.344\n",
       "NumFloors              0.1972      0.068      2.898      0.004         0.064     0.331\n",
       "floorArea          -3.545e-06   2.39e-06     -1.480      0.139     -8.24e-06  1.15e-06\n",
       "==============================================================================\n",
       "Omnibus:                      491.861   Durbin-Watson:                   1.735\n",
       "Prob(Omnibus):                  0.000   Jarque-Bera (JB):             1465.165\n",
       "Skew:                           0.840   Prob(JB):                         0.00\n",
       "Kurtosis:                       5.961   Cond. No.                     1.24e+07\n",
       "==============================================================================\n",
       "\n",
       "Warnings:\n",
       "[1] Standard Errors assume that the covariance matrix of the errors is correctly specified.\n",
       "[2] The condition number is large, 1.24e+07. This might indicate that there are\n",
       "strong multicollinearity or other numerical problems.\n",
       "\"\"\""
      ]
     },
     "execution_count": 106,
     "metadata": {},
     "output_type": "execute_result"
    }
   ],
   "source": [
    "model1 = smf.ols( formula= 'siteEUI ~ I(income/10000) + LtdHeight + NumFloors + floorArea ', data= mnBuildings2014En).fit()\n",
    "model1.summary()"
   ]
  },
  {
   "cell_type": "code",
   "execution_count": 107,
   "metadata": {
    "collapsed": false
   },
   "outputs": [
    {
     "data": {
      "text/plain": [
       "Index(['siteEUI', 'ZipCode', 'numBldgs', 'UnitsRes', 'UnitsTotal', 'YearBuilt',\n",
       "       'LotArea', 'NumFloors', 'ResArea', 'RetailArea', 'AssessTot', 'CommFAR',\n",
       "       'FacilFAR', 'BuiltFAR', 'ResidFAR', 'LotArea', 'LotFront', 'LotDepth',\n",
       "       'BldgFront', 'DirectGHG', 'InderectGHG', 'floorArea', 'CB2010',\n",
       "       'CT2010', 'GHG', 'water', 'ProxCode', 'LtdHeight', 'HistDist',\n",
       "       'BldgArea', 'ComArea', 'OfficeArea', 'RetailArea', 'GarageArea',\n",
       "       'StrgeArea', 'FactryArea', 'OtherArea', 'totalEUI', 'age20', 'age40',\n",
       "       'age60', 'age60ab', 'nonRes', 'income'],\n",
       "      dtype='object')"
      ]
     },
     "execution_count": 107,
     "metadata": {},
     "output_type": "execute_result"
    }
   ],
   "source": [
    "mnBuildings2014En.columns"
   ]
  },
  {
   "cell_type": "code",
   "execution_count": 111,
   "metadata": {
    "collapsed": true
   },
   "outputs": [],
   "source": [
    "mnBuildings2014En['GHGpersqr'] = mnBuildings2014En['GHG']/mnBuildings2014En['floorArea']"
   ]
  },
  {
   "cell_type": "code",
   "execution_count": 115,
   "metadata": {
    "collapsed": false
   },
   "outputs": [
    {
     "data": {
      "text/html": [
       "<table class=\"simpletable\">\n",
       "<caption>OLS Regression Results</caption>\n",
       "<tr>\n",
       "  <th>Dep. Variable:</th>           <td>GHG</td>       <th>  R-squared:         </th> <td>   0.700</td> \n",
       "</tr>\n",
       "<tr>\n",
       "  <th>Model:</th>                   <td>OLS</td>       <th>  Adj. R-squared:    </th> <td>   0.698</td> \n",
       "</tr>\n",
       "<tr>\n",
       "  <th>Method:</th>             <td>Least Squares</td>  <th>  F-statistic:       </th> <td>   585.9</td> \n",
       "</tr>\n",
       "<tr>\n",
       "  <th>Date:</th>             <td>Wed, 16 Dec 2015</td> <th>  Prob (F-statistic):</th>  <td>  0.00</td>  \n",
       "</tr>\n",
       "<tr>\n",
       "  <th>Time:</th>                 <td>00:22:14</td>     <th>  Log-Likelihood:    </th> <td> -24678.</td> \n",
       "</tr>\n",
       "<tr>\n",
       "  <th>No. Observations:</th>      <td>  3033</td>      <th>  AIC:               </th> <td>4.938e+04</td>\n",
       "</tr>\n",
       "<tr>\n",
       "  <th>Df Residuals:</th>          <td>  3020</td>      <th>  BIC:               </th> <td>4.946e+04</td>\n",
       "</tr>\n",
       "<tr>\n",
       "  <th>Df Model:</th>              <td>    12</td>      <th>                     </th>     <td> </td>    \n",
       "</tr>\n",
       "<tr>\n",
       "  <th>Covariance Type:</th>      <td>nonrobust</td>    <th>                     </th>     <td> </td>    \n",
       "</tr>\n",
       "</table>\n",
       "<table class=\"simpletable\">\n",
       "<tr>\n",
       "            <td></td>              <th>coef</th>     <th>std err</th>      <th>t</th>      <th>P>|t|</th> <th>[95.0% Conf. Int.]</th> \n",
       "</tr>\n",
       "<tr>\n",
       "  <th>Intercept</th>            <td>  225.4244</td> <td>   49.595</td> <td>    4.545</td> <td> 0.000</td> <td>  128.181   322.668</td>\n",
       "</tr>\n",
       "<tr>\n",
       "  <th>LtdHeight[T.LH-1 ]</th>   <td>   49.4880</td> <td>  586.882</td> <td>    0.084</td> <td> 0.933</td> <td>-1101.241  1200.217</td>\n",
       "</tr>\n",
       "<tr>\n",
       "  <th>LtdHeight[T.LH-1A]</th>   <td>   27.2052</td> <td>  108.360</td> <td>    0.251</td> <td> 0.802</td> <td> -185.261   239.672</td>\n",
       "</tr>\n",
       "<tr>\n",
       "  <th>ProxCode[T.1]</th>        <td>  159.3795</td> <td>   46.015</td> <td>    3.464</td> <td> 0.001</td> <td>   69.155   249.604</td>\n",
       "</tr>\n",
       "<tr>\n",
       "  <th>ProxCode[T.2]</th>        <td> -132.0350</td> <td>   43.031</td> <td>   -3.068</td> <td> 0.002</td> <td> -216.408   -47.662</td>\n",
       "</tr>\n",
       "<tr>\n",
       "  <th>ProxCode[T.3]</th>        <td> -192.1052</td> <td>   41.829</td> <td>   -4.593</td> <td> 0.000</td> <td> -274.121  -110.089</td>\n",
       "</tr>\n",
       "<tr>\n",
       "  <th>age20[T.True]</th>        <td> -286.5168</td> <td>   53.321</td> <td>   -5.373</td> <td> 0.000</td> <td> -391.066  -181.968</td>\n",
       "</tr>\n",
       "<tr>\n",
       "  <th>age40[T.True]</th>        <td> -322.6377</td> <td>   57.019</td> <td>   -5.658</td> <td> 0.000</td> <td> -434.438  -210.838</td>\n",
       "</tr>\n",
       "<tr>\n",
       "  <th>age60[T.True]</th>        <td>  -42.0118</td> <td>   42.321</td> <td>   -0.993</td> <td> 0.321</td> <td> -124.992    40.969</td>\n",
       "</tr>\n",
       "<tr>\n",
       "  <th>I(AssessTot / 10000)</th> <td>    0.1340</td> <td>    0.015</td> <td>    9.157</td> <td> 0.000</td> <td>    0.105     0.163</td>\n",
       "</tr>\n",
       "<tr>\n",
       "  <th>UnitsTotal</th>           <td>    3.9485</td> <td>    0.106</td> <td>   37.359</td> <td> 0.000</td> <td>    3.741     4.156</td>\n",
       "</tr>\n",
       "<tr>\n",
       "  <th>NumFloors</th>            <td>   19.7414</td> <td>    2.218</td> <td>    8.902</td> <td> 0.000</td> <td>   15.393    24.089</td>\n",
       "</tr>\n",
       "<tr>\n",
       "  <th>I(income / 10000)</th>    <td>  -22.2514</td> <td>    6.237</td> <td>   -3.567</td> <td> 0.000</td> <td>  -34.482   -10.021</td>\n",
       "</tr>\n",
       "</table>\n",
       "<table class=\"simpletable\">\n",
       "<tr>\n",
       "  <th>Omnibus:</th>       <td>2517.143</td> <th>  Durbin-Watson:     </th>  <td>   1.756</td> \n",
       "</tr>\n",
       "<tr>\n",
       "  <th>Prob(Omnibus):</th>  <td> 0.000</td>  <th>  Jarque-Bera (JB):  </th> <td>498760.736</td>\n",
       "</tr>\n",
       "<tr>\n",
       "  <th>Skew:</th>           <td> 3.118</td>  <th>  Prob(JB):          </th>  <td>    0.00</td> \n",
       "</tr>\n",
       "<tr>\n",
       "  <th>Kurtosis:</th>       <td>65.512</td>  <th>  Cond. No.          </th>  <td>9.74e+04</td> \n",
       "</tr>\n",
       "</table>"
      ],
      "text/plain": [
       "<class 'statsmodels.iolib.summary.Summary'>\n",
       "\"\"\"\n",
       "                            OLS Regression Results                            \n",
       "==============================================================================\n",
       "Dep. Variable:                    GHG   R-squared:                       0.700\n",
       "Model:                            OLS   Adj. R-squared:                  0.698\n",
       "Method:                 Least Squares   F-statistic:                     585.9\n",
       "Date:                Wed, 16 Dec 2015   Prob (F-statistic):               0.00\n",
       "Time:                        00:22:14   Log-Likelihood:                -24678.\n",
       "No. Observations:                3033   AIC:                         4.938e+04\n",
       "Df Residuals:                    3020   BIC:                         4.946e+04\n",
       "Df Model:                          12                                         \n",
       "Covariance Type:            nonrobust                                         \n",
       "========================================================================================\n",
       "                           coef    std err          t      P>|t|      [95.0% Conf. Int.]\n",
       "----------------------------------------------------------------------------------------\n",
       "Intercept              225.4244     49.595      4.545      0.000       128.181   322.668\n",
       "LtdHeight[T.LH-1 ]      49.4880    586.882      0.084      0.933     -1101.241  1200.217\n",
       "LtdHeight[T.LH-1A]      27.2052    108.360      0.251      0.802      -185.261   239.672\n",
       "ProxCode[T.1]          159.3795     46.015      3.464      0.001        69.155   249.604\n",
       "ProxCode[T.2]         -132.0350     43.031     -3.068      0.002      -216.408   -47.662\n",
       "ProxCode[T.3]         -192.1052     41.829     -4.593      0.000      -274.121  -110.089\n",
       "age20[T.True]         -286.5168     53.321     -5.373      0.000      -391.066  -181.968\n",
       "age40[T.True]         -322.6377     57.019     -5.658      0.000      -434.438  -210.838\n",
       "age60[T.True]          -42.0118     42.321     -0.993      0.321      -124.992    40.969\n",
       "I(AssessTot / 10000)     0.1340      0.015      9.157      0.000         0.105     0.163\n",
       "UnitsTotal               3.9485      0.106     37.359      0.000         3.741     4.156\n",
       "NumFloors               19.7414      2.218      8.902      0.000        15.393    24.089\n",
       "I(income / 10000)      -22.2514      6.237     -3.567      0.000       -34.482   -10.021\n",
       "==============================================================================\n",
       "Omnibus:                     2517.143   Durbin-Watson:                   1.756\n",
       "Prob(Omnibus):                  0.000   Jarque-Bera (JB):           498760.736\n",
       "Skew:                           3.118   Prob(JB):                         0.00\n",
       "Kurtosis:                      65.512   Cond. No.                     9.74e+04\n",
       "==============================================================================\n",
       "\n",
       "Warnings:\n",
       "[1] Standard Errors assume that the covariance matrix of the errors is correctly specified.\n",
       "[2] The condition number is large, 9.74e+04. This might indicate that there are\n",
       "strong multicollinearity or other numerical problems.\n",
       "\"\"\""
      ]
     },
     "execution_count": 115,
     "metadata": {},
     "output_type": "execute_result"
    }
   ],
   "source": [
    "model1 = smf.ols( formula= 'GHG ~ I(AssessTot/10000)   + LtdHeight+ ProxCode+ UnitsTotal  + NumFloors  + age20 + age40 + age60 +I(income/10000)', data= mnBuildings2014En).fit()\n",
    "model1.summary()"
   ]
  },
  {
   "cell_type": "code",
   "execution_count": 155,
   "metadata": {
    "collapsed": true
   },
   "outputs": [],
   "source": [
    "nycBuildings2014En = nycBuildings2014[nycBuildings2014['Site EUI(kBtu/ft2)']<300][['Site EUI(kBtu/ft2)', \n",
    "                                   'ZipCode',\n",
    "                                   'DOF Number of Buildings', 'UnitsRes', 'UnitsTotal', 'YearBuilt',\n",
    "                                   'LotArea', 'NumFloors', 'ResArea', 'RetailArea', 'AssessTot', \n",
    "                                    'CommFAR', 'FacilFAR', 'BuiltFAR', 'ResidFAR',\n",
    "                                    'LotArea', 'LotFront', 'LotDepth', 'BldgFront', 'Direct GHG Emissions(MtCO2e)', \n",
    "                                    'Indirect GHG Emissions(MtCO2e)', 'Reported Property Floor Area (Building(s)) (ft²)', \n",
    "                                    'CB2010', 'CT2010', 'Total GHG Emissions(MtCO2e)'\n",
    "                                    ,'Municipally Supplied Potable Water - Indoor Intensity (gal/ft²)'\n",
    "                                    , 'ProxCode', 'LtdHeight', 'HistDist'\n",
    "                                    , 'BldgArea', 'ComArea', 'OfficeArea', 'RetailArea', \n",
    "                                    'GarageArea', 'StrgeArea','FactryArea', 'OtherArea',\n",
    "                                    'Reported NYC Building Identification Numbers (BINs)']]\n",
    "\n",
    "nycBuildings2014En = nycBuildings2014En.rename(columns={'Site EUI(kBtu/ft2)': 'siteEUI'\n",
    "                                 ,'Reported Property Floor Area (Building(s)) (ft²)' : 'floorArea'\n",
    "                                 , 'DOF Number of Buildings' : 'numBldgs'\n",
    "                                 , 'Total GHG Emissions(MtCO2e)' : 'GHG'\n",
    "                                 , 'Direct GHG Emissions(MtCO2e)' : 'DirectGHG' \n",
    "                                 , 'Indirect GHG Emissions(MtCO2e)' : 'InderectGHG'\n",
    "                                 ,'Municipally Supplied Potable Water - Indoor Intensity (gal/ft²)':'water'})\n",
    "\n",
    "nycBuildings2014En['totalEUI'] = nycBuildings2014En.siteEUI * nycBuildings2014En.floorArea\n",
    "nycBuildings2014En['age20'] = nycBuildings2014En['YearBuilt'] > 1995\n",
    "nycBuildings2014En['age40'] = (nycBuildings2014En['YearBuilt'] > 1975) & ( nycBuildings2014En['YearBuilt'] < 1995)\n",
    "nycBuildings2014En['age60'] = (nycBuildings2014En['YearBuilt'] > 1955) & (nycBuildings2014En['YearBuilt'] < 1975)\n",
    "nycBuildings2014En['age60ab'] = nycBuildings2014En['YearBuilt'] < 1955\n",
    "nycBuildings2014En['nonRes'] = nycBuildings2014En.floorArea.astype(float) -  nycBuildings2014En.ResArea.astype(float)\n",
    "nycBuildings2014En[\"CT2010\"] = nycBuildings2014En[\"CT2010\"].astype(float).astype(int)\n",
    "nycBuildings2014En['income'] = nycBuildings2014En[\"CT2010\"].map(incomed.get)\n",
    "nycBuildings2014En = nycBuildings2014En[nycBuildings2014En.income>0]"
   ]
  },
  {
   "cell_type": "code",
   "execution_count": 156,
   "metadata": {
    "collapsed": false
   },
   "outputs": [],
   "source": [
    "nycBuildings2014En.to_csv('nycBuildings2014.csv')"
   ]
  },
  {
   "cell_type": "code",
   "execution_count": 148,
   "metadata": {
    "collapsed": false
   },
   "outputs": [],
   "source": [
    "nycBuildings2014En = nycBuildings2014En.convert_objects(convert_numeric=True)"
   ]
  },
  {
   "cell_type": "code",
   "execution_count": 120,
   "metadata": {
    "collapsed": false
   },
   "outputs": [
    {
     "name": "stdout",
     "output_type": "stream",
     "text": [
      "Index(['siteEUI', 'ZipCode', 'numBldgs', 'UnitsRes', 'UnitsTotal', 'YearBuilt',\n",
      "       'LotArea', 'NumFloors', 'ResArea', 'RetailArea', 'AssessTot', 'CommFAR',\n",
      "       'FacilFAR', 'BuiltFAR', 'ResidFAR', 'LotArea', 'LotFront', 'LotDepth',\n",
      "       'BldgFront', 'DirectGHG', 'InderectGHG', 'floorArea', 'CB2010',\n",
      "       'CT2010', 'GHG', 'water', 'ProxCode', 'LtdHeight', 'HistDist',\n",
      "       'BldgArea', 'ComArea', 'OfficeArea', 'RetailArea', 'GarageArea',\n",
      "       'StrgeArea', 'FactryArea', 'OtherArea', 'totalEUI', 'age20', 'age40',\n",
      "       'age60', 'age60ab', 'nonRes', 'income'],\n",
      "      dtype='object')\n"
     ]
    },
    {
     "data": {
      "text/html": [
       "<div>\n",
       "<table border=\"1\" class=\"dataframe\">\n",
       "  <thead>\n",
       "    <tr style=\"text-align: right;\">\n",
       "      <th></th>\n",
       "      <th>siteEUI</th>\n",
       "      <th>ZipCode</th>\n",
       "      <th>numBldgs</th>\n",
       "      <th>UnitsRes</th>\n",
       "      <th>UnitsTotal</th>\n",
       "      <th>YearBuilt</th>\n",
       "      <th>LotArea</th>\n",
       "      <th>NumFloors</th>\n",
       "      <th>ResArea</th>\n",
       "      <th>RetailArea</th>\n",
       "      <th>...</th>\n",
       "      <th>StrgeArea</th>\n",
       "      <th>FactryArea</th>\n",
       "      <th>OtherArea</th>\n",
       "      <th>totalEUI</th>\n",
       "      <th>age20</th>\n",
       "      <th>age40</th>\n",
       "      <th>age60</th>\n",
       "      <th>age60ab</th>\n",
       "      <th>nonRes</th>\n",
       "      <th>income</th>\n",
       "    </tr>\n",
       "  </thead>\n",
       "  <tbody>\n",
       "    <tr>\n",
       "      <th>0</th>\n",
       "      <td>134.6</td>\n",
       "      <td>10036</td>\n",
       "      <td>1</td>\n",
       "      <td>921</td>\n",
       "      <td>927</td>\n",
       "      <td>1999</td>\n",
       "      <td>110080</td>\n",
       "      <td>40</td>\n",
       "      <td>788774</td>\n",
       "      <td>40068</td>\n",
       "      <td>...</td>\n",
       "      <td>0</td>\n",
       "      <td>0</td>\n",
       "      <td>0</td>\n",
       "      <td>119508513.4</td>\n",
       "      <td>True</td>\n",
       "      <td>False</td>\n",
       "      <td>False</td>\n",
       "      <td>False</td>\n",
       "      <td>99105</td>\n",
       "      <td>30833</td>\n",
       "    </tr>\n",
       "    <tr>\n",
       "      <th>2</th>\n",
       "      <td>83.2</td>\n",
       "      <td>11368</td>\n",
       "      <td>2</td>\n",
       "      <td>294</td>\n",
       "      <td>294</td>\n",
       "      <td>1989</td>\n",
       "      <td>127000</td>\n",
       "      <td>8</td>\n",
       "      <td>266316</td>\n",
       "      <td>0</td>\n",
       "      <td>...</td>\n",
       "      <td>0</td>\n",
       "      <td>0</td>\n",
       "      <td>0</td>\n",
       "      <td>11078745.6</td>\n",
       "      <td>False</td>\n",
       "      <td>True</td>\n",
       "      <td>False</td>\n",
       "      <td>False</td>\n",
       "      <td>-133158</td>\n",
       "      <td>31361</td>\n",
       "    </tr>\n",
       "    <tr>\n",
       "      <th>3</th>\n",
       "      <td>95.1</td>\n",
       "      <td>10280</td>\n",
       "      <td>1</td>\n",
       "      <td>247</td>\n",
       "      <td>250</td>\n",
       "      <td>2006</td>\n",
       "      <td>35352</td>\n",
       "      <td>33</td>\n",
       "      <td>337384</td>\n",
       "      <td>4530</td>\n",
       "      <td>...</td>\n",
       "      <td>0</td>\n",
       "      <td>0</td>\n",
       "      <td>0</td>\n",
       "      <td>43534022.1</td>\n",
       "      <td>True</td>\n",
       "      <td>False</td>\n",
       "      <td>False</td>\n",
       "      <td>False</td>\n",
       "      <td>120387</td>\n",
       "      <td>107611</td>\n",
       "    </tr>\n",
       "    <tr>\n",
       "      <th>4</th>\n",
       "      <td>89.9</td>\n",
       "      <td>10282</td>\n",
       "      <td>1</td>\n",
       "      <td>253</td>\n",
       "      <td>256</td>\n",
       "      <td>2004</td>\n",
       "      <td>14451</td>\n",
       "      <td>24</td>\n",
       "      <td>276141</td>\n",
       "      <td>0</td>\n",
       "      <td>...</td>\n",
       "      <td>0</td>\n",
       "      <td>0</td>\n",
       "      <td>0</td>\n",
       "      <td>26970000.0</td>\n",
       "      <td>True</td>\n",
       "      <td>False</td>\n",
       "      <td>False</td>\n",
       "      <td>False</td>\n",
       "      <td>23859</td>\n",
       "      <td>107611</td>\n",
       "    </tr>\n",
       "    <tr>\n",
       "      <th>5</th>\n",
       "      <td>108.7</td>\n",
       "      <td>10282</td>\n",
       "      <td>1</td>\n",
       "      <td>293</td>\n",
       "      <td>294</td>\n",
       "      <td>2002</td>\n",
       "      <td>16653</td>\n",
       "      <td>27</td>\n",
       "      <td>334939</td>\n",
       "      <td>0</td>\n",
       "      <td>...</td>\n",
       "      <td>0</td>\n",
       "      <td>0</td>\n",
       "      <td>19195</td>\n",
       "      <td>39603649.3</td>\n",
       "      <td>True</td>\n",
       "      <td>False</td>\n",
       "      <td>False</td>\n",
       "      <td>False</td>\n",
       "      <td>29400</td>\n",
       "      <td>107611</td>\n",
       "    </tr>\n",
       "  </tbody>\n",
       "</table>\n",
       "<p>5 rows × 44 columns</p>\n",
       "</div>"
      ],
      "text/plain": [
       "   siteEUI ZipCode  numBldgs  UnitsRes  UnitsTotal  YearBuilt  LotArea  \\\n",
       "0    134.6   10036         1       921         927       1999   110080   \n",
       "2     83.2   11368         2       294         294       1989   127000   \n",
       "3     95.1   10280         1       247         250       2006    35352   \n",
       "4     89.9   10282         1       253         256       2004    14451   \n",
       "5    108.7   10282         1       293         294       2002    16653   \n",
       "\n",
       "   NumFloors  ResArea  RetailArea   ...    StrgeArea  FactryArea  OtherArea  \\\n",
       "0         40   788774       40068   ...            0           0          0   \n",
       "2          8   266316           0   ...            0           0          0   \n",
       "3         33   337384        4530   ...            0           0          0   \n",
       "4         24   276141           0   ...            0           0          0   \n",
       "5         27   334939           0   ...            0           0      19195   \n",
       "\n",
       "      totalEUI  age20  age40  age60  age60ab  nonRes  income  \n",
       "0  119508513.4   True  False  False    False   99105   30833  \n",
       "2   11078745.6  False   True  False    False -133158   31361  \n",
       "3   43534022.1   True  False  False    False  120387  107611  \n",
       "4   26970000.0   True  False  False    False   23859  107611  \n",
       "5   39603649.3   True  False  False    False   29400  107611  \n",
       "\n",
       "[5 rows x 44 columns]"
      ]
     },
     "execution_count": 120,
     "metadata": {},
     "output_type": "execute_result"
    }
   ],
   "source": [
    "print(nycBuildings2014En.columns)\n",
    "nycBuildings2014En.head()"
   ]
  },
  {
   "cell_type": "code",
   "execution_count": 150,
   "metadata": {
    "collapsed": false
   },
   "outputs": [],
   "source": [
    "# nycBuildings2014En.ProxCode"
   ]
  },
  {
   "cell_type": "code",
   "execution_count": 131,
   "metadata": {
    "collapsed": false
   },
   "outputs": [],
   "source": [
    "# nycBuildings2014En['ProxCode']"
   ]
  },
  {
   "cell_type": "code",
   "execution_count": 152,
   "metadata": {
    "collapsed": false
   },
   "outputs": [
    {
     "data": {
      "text/html": [
       "<table class=\"simpletable\">\n",
       "<caption>OLS Regression Results</caption>\n",
       "<tr>\n",
       "  <th>Dep. Variable:</th>           <td>GHG</td>       <th>  R-squared:         </th> <td>   0.310</td> \n",
       "</tr>\n",
       "<tr>\n",
       "  <th>Model:</th>                   <td>OLS</td>       <th>  Adj. R-squared:    </th> <td>   0.309</td> \n",
       "</tr>\n",
       "<tr>\n",
       "  <th>Method:</th>             <td>Least Squares</td>  <th>  F-statistic:       </th> <td>   344.1</td> \n",
       "</tr>\n",
       "<tr>\n",
       "  <th>Date:</th>             <td>Wed, 16 Dec 2015</td> <th>  Prob (F-statistic):</th>  <td>  0.00</td>  \n",
       "</tr>\n",
       "<tr>\n",
       "  <th>Time:</th>                 <td>00:34:53</td>     <th>  Log-Likelihood:    </th> <td> -68221.</td> \n",
       "</tr>\n",
       "<tr>\n",
       "  <th>No. Observations:</th>      <td>  7685</td>      <th>  AIC:               </th> <td>1.365e+05</td>\n",
       "</tr>\n",
       "<tr>\n",
       "  <th>Df Residuals:</th>          <td>  7674</td>      <th>  BIC:               </th> <td>1.365e+05</td>\n",
       "</tr>\n",
       "<tr>\n",
       "  <th>Df Model:</th>              <td>    10</td>      <th>                     </th>     <td> </td>    \n",
       "</tr>\n",
       "<tr>\n",
       "  <th>Covariance Type:</th>      <td>nonrobust</td>    <th>                     </th>     <td> </td>    \n",
       "</tr>\n",
       "</table>\n",
       "<table class=\"simpletable\">\n",
       "<tr>\n",
       "            <td></td>              <th>coef</th>     <th>std err</th>      <th>t</th>      <th>P>|t|</th> <th>[95.0% Conf. Int.]</th> \n",
       "</tr>\n",
       "<tr>\n",
       "  <th>Intercept</th>            <td>  137.9311</td> <td>   54.136</td> <td>    2.548</td> <td> 0.011</td> <td>   31.810   244.052</td>\n",
       "</tr>\n",
       "<tr>\n",
       "  <th>C(ProxCode)[T.1]</th>     <td>  264.9430</td> <td>   60.960</td> <td>    4.346</td> <td> 0.000</td> <td>  145.444   384.442</td>\n",
       "</tr>\n",
       "<tr>\n",
       "  <th>C(ProxCode)[T.2]</th>     <td>  -39.9421</td> <td>   66.007</td> <td>   -0.605</td> <td> 0.545</td> <td> -169.333    89.449</td>\n",
       "</tr>\n",
       "<tr>\n",
       "  <th>C(ProxCode)[T.3]</th>     <td> -103.4831</td> <td>   65.497</td> <td>   -1.580</td> <td> 0.114</td> <td> -231.875    24.909</td>\n",
       "</tr>\n",
       "<tr>\n",
       "  <th>age20[T.True]</th>        <td> -207.6367</td> <td>   70.871</td> <td>   -2.930</td> <td> 0.003</td> <td> -346.562   -68.711</td>\n",
       "</tr>\n",
       "<tr>\n",
       "  <th>age40[T.True]</th>        <td> -188.7487</td> <td>   88.654</td> <td>   -2.129</td> <td> 0.033</td> <td> -362.535   -14.962</td>\n",
       "</tr>\n",
       "<tr>\n",
       "  <th>age60[T.True]</th>        <td>  166.1699</td> <td>   50.414</td> <td>    3.296</td> <td> 0.001</td> <td>   67.344   264.996</td>\n",
       "</tr>\n",
       "<tr>\n",
       "  <th>I(AssessTot / 10000)</th> <td>    0.0346</td> <td>    0.024</td> <td>    1.438</td> <td> 0.150</td> <td>   -0.013     0.082</td>\n",
       "</tr>\n",
       "<tr>\n",
       "  <th>I(income / 10000)</th>    <td>  -41.7932</td> <td>    9.355</td> <td>   -4.468</td> <td> 0.000</td> <td>  -60.131   -23.455</td>\n",
       "</tr>\n",
       "<tr>\n",
       "  <th>UnitsTotal</th>           <td>    5.0702</td> <td>    0.139</td> <td>   36.399</td> <td> 0.000</td> <td>    4.797     5.343</td>\n",
       "</tr>\n",
       "<tr>\n",
       "  <th>NumFloors</th>            <td>   21.9060</td> <td>    3.591</td> <td>    6.101</td> <td> 0.000</td> <td>   14.867    28.945</td>\n",
       "</tr>\n",
       "</table>\n",
       "<table class=\"simpletable\">\n",
       "<tr>\n",
       "  <th>Omnibus:</th>       <td>21644.821</td> <th>  Durbin-Watson:     </th>    <td>   1.087</td>   \n",
       "</tr>\n",
       "<tr>\n",
       "  <th>Prob(Omnibus):</th>  <td> 0.000</td>   <th>  Jarque-Bera (JB):  </th> <td>1092145516.114</td>\n",
       "</tr>\n",
       "<tr>\n",
       "  <th>Skew:</th>           <td>36.704</td>   <th>  Prob(JB):          </th>    <td>    0.00</td>   \n",
       "</tr>\n",
       "<tr>\n",
       "  <th>Kurtosis:</th>      <td>1848.358</td>  <th>  Cond. No.          </th>    <td>7.84e+03</td>   \n",
       "</tr>\n",
       "</table>"
      ],
      "text/plain": [
       "<class 'statsmodels.iolib.summary.Summary'>\n",
       "\"\"\"\n",
       "                            OLS Regression Results                            \n",
       "==============================================================================\n",
       "Dep. Variable:                    GHG   R-squared:                       0.310\n",
       "Model:                            OLS   Adj. R-squared:                  0.309\n",
       "Method:                 Least Squares   F-statistic:                     344.1\n",
       "Date:                Wed, 16 Dec 2015   Prob (F-statistic):               0.00\n",
       "Time:                        00:34:53   Log-Likelihood:                -68221.\n",
       "No. Observations:                7685   AIC:                         1.365e+05\n",
       "Df Residuals:                    7674   BIC:                         1.365e+05\n",
       "Df Model:                          10                                         \n",
       "Covariance Type:            nonrobust                                         \n",
       "========================================================================================\n",
       "                           coef    std err          t      P>|t|      [95.0% Conf. Int.]\n",
       "----------------------------------------------------------------------------------------\n",
       "Intercept              137.9311     54.136      2.548      0.011        31.810   244.052\n",
       "C(ProxCode)[T.1]       264.9430     60.960      4.346      0.000       145.444   384.442\n",
       "C(ProxCode)[T.2]       -39.9421     66.007     -0.605      0.545      -169.333    89.449\n",
       "C(ProxCode)[T.3]      -103.4831     65.497     -1.580      0.114      -231.875    24.909\n",
       "age20[T.True]         -207.6367     70.871     -2.930      0.003      -346.562   -68.711\n",
       "age40[T.True]         -188.7487     88.654     -2.129      0.033      -362.535   -14.962\n",
       "age60[T.True]          166.1699     50.414      3.296      0.001        67.344   264.996\n",
       "I(AssessTot / 10000)     0.0346      0.024      1.438      0.150        -0.013     0.082\n",
       "I(income / 10000)      -41.7932      9.355     -4.468      0.000       -60.131   -23.455\n",
       "UnitsTotal               5.0702      0.139     36.399      0.000         4.797     5.343\n",
       "NumFloors               21.9060      3.591      6.101      0.000        14.867    28.945\n",
       "==============================================================================\n",
       "Omnibus:                    21644.821   Durbin-Watson:                   1.087\n",
       "Prob(Omnibus):                  0.000   Jarque-Bera (JB):       1092145516.114\n",
       "Skew:                          36.704   Prob(JB):                         0.00\n",
       "Kurtosis:                    1848.358   Cond. No.                     7.84e+03\n",
       "==============================================================================\n",
       "\n",
       "Warnings:\n",
       "[1] Standard Errors assume that the covariance matrix of the errors is correctly specified.\n",
       "[2] The condition number is large, 7.84e+03. This might indicate that there are\n",
       "strong multicollinearity or other numerical problems.\n",
       "\"\"\""
      ]
     },
     "execution_count": 152,
     "metadata": {},
     "output_type": "execute_result"
    }
   ],
   "source": [
    "model2 = smf.ols( formula= 'GHG ~ I(AssessTot/10000)   + I(income/10000) + C(ProxCode) + UnitsTotal  + NumFloors  + age20 + age40 + age60', data= nycBuildings2014En).fit()\n",
    "model2.summary()"
   ]
  },
  {
   "cell_type": "code",
   "execution_count": 118,
   "metadata": {
    "collapsed": false
   },
   "outputs": [
    {
     "data": {
      "text/html": [
       "<table class=\"simpletable\">\n",
       "<caption>OLS Regression Results</caption>\n",
       "<tr>\n",
       "  <th>Dep. Variable:</th>         <td>siteEUI</td>     <th>  R-squared:         </th> <td>   0.016</td> \n",
       "</tr>\n",
       "<tr>\n",
       "  <th>Model:</th>                   <td>OLS</td>       <th>  Adj. R-squared:    </th> <td>   0.015</td> \n",
       "</tr>\n",
       "<tr>\n",
       "  <th>Method:</th>             <td>Least Squares</td>  <th>  F-statistic:       </th> <td>   24.30</td> \n",
       "</tr>\n",
       "<tr>\n",
       "  <th>Date:</th>             <td>Wed, 16 Dec 2015</td> <th>  Prob (F-statistic):</th> <td>2.36e-24</td> \n",
       "</tr>\n",
       "<tr>\n",
       "  <th>Time:</th>                 <td>00:23:46</td>     <th>  Log-Likelihood:    </th> <td> -37426.</td> \n",
       "</tr>\n",
       "<tr>\n",
       "  <th>No. Observations:</th>      <td>  7685</td>      <th>  AIC:               </th> <td>7.486e+04</td>\n",
       "</tr>\n",
       "<tr>\n",
       "  <th>Df Residuals:</th>          <td>  7679</td>      <th>  BIC:               </th> <td>7.490e+04</td>\n",
       "</tr>\n",
       "<tr>\n",
       "  <th>Df Model:</th>              <td>     5</td>      <th>                     </th>     <td> </td>    \n",
       "</tr>\n",
       "<tr>\n",
       "  <th>Covariance Type:</th>      <td>nonrobust</td>    <th>                     </th>     <td> </td>    \n",
       "</tr>\n",
       "</table>\n",
       "<table class=\"simpletable\">\n",
       "<tr>\n",
       "           <td></td>             <th>coef</th>     <th>std err</th>      <th>t</th>      <th>P>|t|</th> <th>[95.0% Conf. Int.]</th> \n",
       "</tr>\n",
       "<tr>\n",
       "  <th>Intercept</th>          <td>   86.4590</td> <td>    0.882</td> <td>   98.043</td> <td> 0.000</td> <td>   84.730    88.188</td>\n",
       "</tr>\n",
       "<tr>\n",
       "  <th>LtdHeight[T.LH-1 ]</th> <td>   -8.6166</td> <td>    5.625</td> <td>   -1.532</td> <td> 0.126</td> <td>  -19.644     2.411</td>\n",
       "</tr>\n",
       "<tr>\n",
       "  <th>LtdHeight[T.LH-1A]</th> <td>  -15.0073</td> <td>    4.067</td> <td>   -3.690</td> <td> 0.000</td> <td>  -22.979    -7.036</td>\n",
       "</tr>\n",
       "<tr>\n",
       "  <th>I(income / 10000)</th>  <td>   -0.8134</td> <td>    0.169</td> <td>   -4.808</td> <td> 0.000</td> <td>   -1.145    -0.482</td>\n",
       "</tr>\n",
       "<tr>\n",
       "  <th>NumFloors</th>          <td>    0.2425</td> <td>    0.049</td> <td>    4.938</td> <td> 0.000</td> <td>    0.146     0.339</td>\n",
       "</tr>\n",
       "<tr>\n",
       "  <th>floorArea</th>          <td> 8.273e-06</td> <td>  1.4e-06</td> <td>    5.912</td> <td> 0.000</td> <td> 5.53e-06   1.1e-05</td>\n",
       "</tr>\n",
       "</table>\n",
       "<table class=\"simpletable\">\n",
       "<tr>\n",
       "  <th>Omnibus:</th>       <td>676.531</td> <th>  Durbin-Watson:     </th> <td>   1.383</td>\n",
       "</tr>\n",
       "<tr>\n",
       "  <th>Prob(Omnibus):</th> <td> 0.000</td>  <th>  Jarque-Bera (JB):  </th> <td>2097.419</td>\n",
       "</tr>\n",
       "<tr>\n",
       "  <th>Skew:</th>          <td> 0.454</td>  <th>  Prob(JB):          </th> <td>    0.00</td>\n",
       "</tr>\n",
       "<tr>\n",
       "  <th>Kurtosis:</th>      <td> 5.393</td>  <th>  Cond. No.          </th> <td>4.89e+06</td>\n",
       "</tr>\n",
       "</table>"
      ],
      "text/plain": [
       "<class 'statsmodels.iolib.summary.Summary'>\n",
       "\"\"\"\n",
       "                            OLS Regression Results                            \n",
       "==============================================================================\n",
       "Dep. Variable:                siteEUI   R-squared:                       0.016\n",
       "Model:                            OLS   Adj. R-squared:                  0.015\n",
       "Method:                 Least Squares   F-statistic:                     24.30\n",
       "Date:                Wed, 16 Dec 2015   Prob (F-statistic):           2.36e-24\n",
       "Time:                        00:23:46   Log-Likelihood:                -37426.\n",
       "No. Observations:                7685   AIC:                         7.486e+04\n",
       "Df Residuals:                    7679   BIC:                         7.490e+04\n",
       "Df Model:                           5                                         \n",
       "Covariance Type:            nonrobust                                         \n",
       "======================================================================================\n",
       "                         coef    std err          t      P>|t|      [95.0% Conf. Int.]\n",
       "--------------------------------------------------------------------------------------\n",
       "Intercept             86.4590      0.882     98.043      0.000        84.730    88.188\n",
       "LtdHeight[T.LH-1 ]    -8.6166      5.625     -1.532      0.126       -19.644     2.411\n",
       "LtdHeight[T.LH-1A]   -15.0073      4.067     -3.690      0.000       -22.979    -7.036\n",
       "I(income / 10000)     -0.8134      0.169     -4.808      0.000        -1.145    -0.482\n",
       "NumFloors              0.2425      0.049      4.938      0.000         0.146     0.339\n",
       "floorArea           8.273e-06    1.4e-06      5.912      0.000      5.53e-06   1.1e-05\n",
       "==============================================================================\n",
       "Omnibus:                      676.531   Durbin-Watson:                   1.383\n",
       "Prob(Omnibus):                  0.000   Jarque-Bera (JB):             2097.419\n",
       "Skew:                           0.454   Prob(JB):                         0.00\n",
       "Kurtosis:                       5.393   Cond. No.                     4.89e+06\n",
       "==============================================================================\n",
       "\n",
       "Warnings:\n",
       "[1] Standard Errors assume that the covariance matrix of the errors is correctly specified.\n",
       "[2] The condition number is large, 4.89e+06. This might indicate that there are\n",
       "strong multicollinearity or other numerical problems.\n",
       "\"\"\""
      ]
     },
     "execution_count": 118,
     "metadata": {},
     "output_type": "execute_result"
    }
   ],
   "source": [
    "model1 = smf.ols( formula= 'siteEUI ~ I(income/10000) + LtdHeight + NumFloors + floorArea ', data= nycBuildings2014En).fit()\n",
    "# model1.summary()"
   ]
  },
  {
   "cell_type": "code",
   "execution_count": 41,
   "metadata": {
    "collapsed": false
   },
   "outputs": [],
   "source": [
    "# print(nycBuildings2012.columns)\n",
    "bkBuildings2012 = bkBuildings2012[bkBuildings2012['Site EUI(kBtu/ft2)']<300][['Site EUI(kBtu/ft2)', \n",
    "                                   'Property Floor Area (Buildngs and Parking)(ft2)', 'ZipCode',\n",
    "                                   'Number of Buildings', 'UnitsRes', 'UnitsTotal', 'YearBuilt',\n",
    "                                   'LotArea', 'NumFloors', 'ResArea', 'RetailArea', 'AssessTot', \n",
    "                                    'CommFAR', 'FacilFAR', 'BuiltFAR', 'ResidFAR',\n",
    "                                    'LotArea', 'LotFront', 'LotDepth', 'BldgFront',\n",
    "                                    'Total GHG Emissions(MtCO2e)', 'CB2010', 'CT2010'\n",
    "                                    ,'Indoor Water Intensity (All Water Sources)(gal/ft2)'\n",
    "                                    , 'ProxCode', 'LtdHeight', 'HistDist'\n",
    "                                    , 'BldgArea', 'ComArea', 'OfficeArea', 'RetailArea', \n",
    "                                    'GarageArea', 'StrgeArea','FactryArea', 'OtherArea']]\n",
    "\n",
    "bkBuildings2012 = bkBuildings2012.rename(columns={'Site EUI(kBtu/ft2)': 'siteEUI'\n",
    "                                 ,'Property Floor Area (Buildngs and Parking)(ft2)' : 'floorArea'\n",
    "                                 , 'Number of Buildings' : 'numBldgs'\n",
    "                                 , 'Total GHG Emissions(MtCO2e)' : 'GHG'\n",
    "                                 ,'Indoor Water Intensity (All Water Sources)(gal/ft2)':'water'})\n",
    "\n",
    "bkBuildings2012['totalEUI'] = bkBuildings2012.siteEUI * bkBuildings2012.floorArea\n",
    "bkBuildings2012['age20'] = bkBuildings2012['YearBuilt'] > 1995\n",
    "bkBuildings2012['age40'] = (bkBuildings2012['YearBuilt'] > 1975) & ( bkBuildings2012['YearBuilt'] < 1995)\n",
    "bkBuildings2012['age60'] = (bkBuildings2012['YearBuilt'] > 1955) & (bkBuildings2012['YearBuilt'] < 1975)\n",
    "bkBuildings2012['age60ab'] = bkBuildings2012['YearBuilt'] < 1955\n",
    "bkBuildings2012['nonRes'] = bkBuildings2012.floorArea.astype(float) -  bkBuildings2012.ResArea.astype(float)\n",
    "bkBuildings2012[\"CT2010\"] = bkBuildings2012[\"CT2010\"].astype(float).astype(int)\n",
    "bkBuildings2012['income'] = bkBuildings2012[\"CT2010\"].map(incomed.get)\n",
    "bkBuildings2012 = bkBuildings2012[bkBuildings2012.income>0]"
   ]
  },
  {
   "cell_type": "code",
   "execution_count": 42,
   "metadata": {
    "collapsed": true
   },
   "outputs": [],
   "source": [
    "bkBuildings2012['ProxCode'] = bkBuildings2012['ProxCode'].astype(int)"
   ]
  },
  {
   "cell_type": "code",
   "execution_count": 43,
   "metadata": {
    "collapsed": false
   },
   "outputs": [
    {
     "data": {
      "text/html": [
       "<table class=\"simpletable\">\n",
       "<caption>OLS Regression Results</caption>\n",
       "<tr>\n",
       "  <th>Dep. Variable:</th>         <td>siteEUI</td>     <th>  R-squared:         </th> <td>   0.102</td> \n",
       "</tr>\n",
       "<tr>\n",
       "  <th>Model:</th>                   <td>OLS</td>       <th>  Adj. R-squared:    </th> <td>   0.099</td> \n",
       "</tr>\n",
       "<tr>\n",
       "  <th>Method:</th>             <td>Least Squares</td>  <th>  F-statistic:       </th> <td>   44.86</td> \n",
       "</tr>\n",
       "<tr>\n",
       "  <th>Date:</th>             <td>Fri, 11 Dec 2015</td> <th>  Prob (F-statistic):</th> <td>9.93e-36</td> \n",
       "</tr>\n",
       "<tr>\n",
       "  <th>Time:</th>                 <td>10:26:25</td>     <th>  Log-Likelihood:    </th> <td> -7678.2</td> \n",
       "</tr>\n",
       "<tr>\n",
       "  <th>No. Observations:</th>      <td>  1589</td>      <th>  AIC:               </th> <td>1.537e+04</td>\n",
       "</tr>\n",
       "<tr>\n",
       "  <th>Df Residuals:</th>          <td>  1584</td>      <th>  BIC:               </th> <td>1.539e+04</td>\n",
       "</tr>\n",
       "<tr>\n",
       "  <th>Df Model:</th>              <td>     4</td>      <th>                     </th>     <td> </td>    \n",
       "</tr>\n",
       "<tr>\n",
       "  <th>Covariance Type:</th>      <td>nonrobust</td>    <th>                     </th>     <td> </td>    \n",
       "</tr>\n",
       "</table>\n",
       "<table class=\"simpletable\">\n",
       "<tr>\n",
       "           <td></td>             <th>coef</th>     <th>std err</th>      <th>t</th>      <th>P>|t|</th> <th>[95.0% Conf. Int.]</th> \n",
       "</tr>\n",
       "<tr>\n",
       "  <th>Intercept</th>          <td>   65.9555</td> <td>    2.103</td> <td>   31.359</td> <td> 0.000</td> <td>   61.830    70.081</td>\n",
       "</tr>\n",
       "<tr>\n",
       "  <th>LtdHeight[T.LH-1 ]</th> <td>   -0.8855</td> <td>    7.836</td> <td>   -0.113</td> <td> 0.910</td> <td>  -16.255    14.484</td>\n",
       "</tr>\n",
       "<tr>\n",
       "  <th>I(income / 10000)</th>  <td>    0.4224</td> <td>    0.403</td> <td>    1.049</td> <td> 0.295</td> <td>   -0.368     1.213</td>\n",
       "</tr>\n",
       "<tr>\n",
       "  <th>NumFloors</th>          <td>    0.3537</td> <td>    0.176</td> <td>    2.005</td> <td> 0.045</td> <td>    0.008     0.700</td>\n",
       "</tr>\n",
       "<tr>\n",
       "  <th>floorArea</th>          <td> 1.322e-05</td> <td> 1.03e-06</td> <td>   12.853</td> <td> 0.000</td> <td> 1.12e-05  1.52e-05</td>\n",
       "</tr>\n",
       "</table>\n",
       "<table class=\"simpletable\">\n",
       "<tr>\n",
       "  <th>Omnibus:</th>       <td>157.038</td> <th>  Durbin-Watson:     </th> <td>   1.652</td> \n",
       "</tr>\n",
       "<tr>\n",
       "  <th>Prob(Omnibus):</th> <td> 0.000</td>  <th>  Jarque-Bera (JB):  </th> <td> 815.398</td> \n",
       "</tr>\n",
       "<tr>\n",
       "  <th>Skew:</th>          <td> 0.303</td>  <th>  Prob(JB):          </th> <td>8.68e-178</td>\n",
       "</tr>\n",
       "<tr>\n",
       "  <th>Kurtosis:</th>      <td> 6.457</td>  <th>  Cond. No.          </th> <td>8.06e+06</td> \n",
       "</tr>\n",
       "</table>"
      ],
      "text/plain": [
       "<class 'statsmodels.iolib.summary.Summary'>\n",
       "\"\"\"\n",
       "                            OLS Regression Results                            \n",
       "==============================================================================\n",
       "Dep. Variable:                siteEUI   R-squared:                       0.102\n",
       "Model:                            OLS   Adj. R-squared:                  0.099\n",
       "Method:                 Least Squares   F-statistic:                     44.86\n",
       "Date:                Fri, 11 Dec 2015   Prob (F-statistic):           9.93e-36\n",
       "Time:                        10:26:25   Log-Likelihood:                -7678.2\n",
       "No. Observations:                1589   AIC:                         1.537e+04\n",
       "Df Residuals:                    1584   BIC:                         1.539e+04\n",
       "Df Model:                           4                                         \n",
       "Covariance Type:            nonrobust                                         \n",
       "======================================================================================\n",
       "                         coef    std err          t      P>|t|      [95.0% Conf. Int.]\n",
       "--------------------------------------------------------------------------------------\n",
       "Intercept             65.9555      2.103     31.359      0.000        61.830    70.081\n",
       "LtdHeight[T.LH-1 ]    -0.8855      7.836     -0.113      0.910       -16.255    14.484\n",
       "I(income / 10000)      0.4224      0.403      1.049      0.295        -0.368     1.213\n",
       "NumFloors              0.3537      0.176      2.005      0.045         0.008     0.700\n",
       "floorArea           1.322e-05   1.03e-06     12.853      0.000      1.12e-05  1.52e-05\n",
       "==============================================================================\n",
       "Omnibus:                      157.038   Durbin-Watson:                   1.652\n",
       "Prob(Omnibus):                  0.000   Jarque-Bera (JB):              815.398\n",
       "Skew:                           0.303   Prob(JB):                    8.68e-178\n",
       "Kurtosis:                       6.457   Cond. No.                     8.06e+06\n",
       "==============================================================================\n",
       "\n",
       "Warnings:\n",
       "[1] Standard Errors assume that the covariance matrix of the errors is correctly specified.\n",
       "[2] The condition number is large, 8.06e+06. This might indicate that there are\n",
       "strong multicollinearity or other numerical problems.\n",
       "\"\"\""
      ]
     },
     "execution_count": 43,
     "metadata": {},
     "output_type": "execute_result"
    }
   ],
   "source": [
    "model1 = smf.ols( formula= 'siteEUI ~ I(income/10000) + LtdHeight + NumFloors + floorArea ', data= bkBuildings2012).fit()\n",
    "model1.summary()"
   ]
  },
  {
   "cell_type": "code",
   "execution_count": 50,
   "metadata": {
    "collapsed": false
   },
   "outputs": [
    {
     "data": {
      "text/html": [
       "<table class=\"simpletable\">\n",
       "<caption>OLS Regression Results</caption>\n",
       "<tr>\n",
       "  <th>Dep. Variable:</th>           <td>GHG</td>       <th>  R-squared:         </th> <td>   0.283</td> \n",
       "</tr>\n",
       "<tr>\n",
       "  <th>Model:</th>                   <td>OLS</td>       <th>  Adj. R-squared:    </th> <td>   0.279</td> \n",
       "</tr>\n",
       "<tr>\n",
       "  <th>Method:</th>             <td>Least Squares</td>  <th>  F-statistic:       </th> <td>   69.07</td> \n",
       "</tr>\n",
       "<tr>\n",
       "  <th>Date:</th>             <td>Fri, 11 Dec 2015</td> <th>  Prob (F-statistic):</th> <td>2.44e-107</td>\n",
       "</tr>\n",
       "<tr>\n",
       "  <th>Time:</th>                 <td>11:11:20</td>     <th>  Log-Likelihood:    </th> <td> -16177.</td> \n",
       "</tr>\n",
       "<tr>\n",
       "  <th>No. Observations:</th>      <td>  1585</td>      <th>  AIC:               </th> <td>3.237e+04</td>\n",
       "</tr>\n",
       "<tr>\n",
       "  <th>Df Residuals:</th>          <td>  1575</td>      <th>  BIC:               </th> <td>3.243e+04</td>\n",
       "</tr>\n",
       "<tr>\n",
       "  <th>Df Model:</th>              <td>     9</td>      <th>                     </th>     <td> </td>    \n",
       "</tr>\n",
       "<tr>\n",
       "  <th>Covariance Type:</th>      <td>nonrobust</td>    <th>                     </th>     <td> </td>    \n",
       "</tr>\n",
       "</table>\n",
       "<table class=\"simpletable\">\n",
       "<tr>\n",
       "            <td></td>              <th>coef</th>     <th>std err</th>      <th>t</th>      <th>P>|t|</th> <th>[95.0% Conf. Int.]</th> \n",
       "</tr>\n",
       "<tr>\n",
       "  <th>Intercept</th>            <td>-3989.9374</td> <td>  599.851</td> <td>   -6.652</td> <td> 0.000</td> <td>-5166.527 -2813.348</td>\n",
       "</tr>\n",
       "<tr>\n",
       "  <th>age20[T.True]</th>        <td>  115.8572</td> <td>  622.144</td> <td>    0.186</td> <td> 0.852</td> <td>-1104.461  1336.175</td>\n",
       "</tr>\n",
       "<tr>\n",
       "  <th>age40[T.True]</th>        <td>-1303.5677</td> <td>  929.473</td> <td>   -1.402</td> <td> 0.161</td> <td>-3126.702   519.567</td>\n",
       "</tr>\n",
       "<tr>\n",
       "  <th>age60[T.True]</th>        <td> 1711.3503</td> <td>  421.801</td> <td>    4.057</td> <td> 0.000</td> <td>  884.000  2538.701</td>\n",
       "</tr>\n",
       "<tr>\n",
       "  <th>I(AssessTot / 10000)</th> <td>    4.3179</td> <td>    0.694</td> <td>    6.223</td> <td> 0.000</td> <td>    2.957     5.679</td>\n",
       "</tr>\n",
       "<tr>\n",
       "  <th>siteEUI</th>              <td>   85.7734</td> <td>    5.304</td> <td>   16.171</td> <td> 0.000</td> <td>   75.370    96.177</td>\n",
       "</tr>\n",
       "<tr>\n",
       "  <th>UnitsTotal</th>           <td>    8.1088</td> <td>    1.591</td> <td>    5.097</td> <td> 0.000</td> <td>    4.988    11.229</td>\n",
       "</tr>\n",
       "<tr>\n",
       "  <th>ProxCode</th>             <td>  735.5303</td> <td>  279.693</td> <td>    2.630</td> <td> 0.009</td> <td>  186.921  1284.140</td>\n",
       "</tr>\n",
       "<tr>\n",
       "  <th>NumFloors</th>            <td> -364.8293</td> <td>   51.266</td> <td>   -7.116</td> <td> 0.000</td> <td> -465.386  -264.272</td>\n",
       "</tr>\n",
       "<tr>\n",
       "  <th>I(income / 10000)</th>    <td> -315.0841</td> <td>   85.758</td> <td>   -3.674</td> <td> 0.000</td> <td> -483.297  -146.872</td>\n",
       "</tr>\n",
       "</table>\n",
       "<table class=\"simpletable\">\n",
       "<tr>\n",
       "  <th>Omnibus:</th>       <td>2096.130</td> <th>  Durbin-Watson:     </th>  <td>   0.623</td> \n",
       "</tr>\n",
       "<tr>\n",
       "  <th>Prob(Omnibus):</th>  <td> 0.000</td>  <th>  Jarque-Bera (JB):  </th> <td>336973.139</td>\n",
       "</tr>\n",
       "<tr>\n",
       "  <th>Skew:</th>           <td> 7.321</td>  <th>  Prob(JB):          </th>  <td>    0.00</td> \n",
       "</tr>\n",
       "<tr>\n",
       "  <th>Kurtosis:</th>       <td>72.914</td>  <th>  Cond. No.          </th>  <td>3.31e+03</td> \n",
       "</tr>\n",
       "</table>"
      ],
      "text/plain": [
       "<class 'statsmodels.iolib.summary.Summary'>\n",
       "\"\"\"\n",
       "                            OLS Regression Results                            \n",
       "==============================================================================\n",
       "Dep. Variable:                    GHG   R-squared:                       0.283\n",
       "Model:                            OLS   Adj. R-squared:                  0.279\n",
       "Method:                 Least Squares   F-statistic:                     69.07\n",
       "Date:                Fri, 11 Dec 2015   Prob (F-statistic):          2.44e-107\n",
       "Time:                        11:11:20   Log-Likelihood:                -16177.\n",
       "No. Observations:                1585   AIC:                         3.237e+04\n",
       "Df Residuals:                    1575   BIC:                         3.243e+04\n",
       "Df Model:                           9                                         \n",
       "Covariance Type:            nonrobust                                         \n",
       "========================================================================================\n",
       "                           coef    std err          t      P>|t|      [95.0% Conf. Int.]\n",
       "----------------------------------------------------------------------------------------\n",
       "Intercept            -3989.9374    599.851     -6.652      0.000     -5166.527 -2813.348\n",
       "age20[T.True]          115.8572    622.144      0.186      0.852     -1104.461  1336.175\n",
       "age40[T.True]        -1303.5677    929.473     -1.402      0.161     -3126.702   519.567\n",
       "age60[T.True]         1711.3503    421.801      4.057      0.000       884.000  2538.701\n",
       "I(AssessTot / 10000)     4.3179      0.694      6.223      0.000         2.957     5.679\n",
       "siteEUI                 85.7734      5.304     16.171      0.000        75.370    96.177\n",
       "UnitsTotal               8.1088      1.591      5.097      0.000         4.988    11.229\n",
       "ProxCode               735.5303    279.693      2.630      0.009       186.921  1284.140\n",
       "NumFloors             -364.8293     51.266     -7.116      0.000      -465.386  -264.272\n",
       "I(income / 10000)     -315.0841     85.758     -3.674      0.000      -483.297  -146.872\n",
       "==============================================================================\n",
       "Omnibus:                     2096.130   Durbin-Watson:                   0.623\n",
       "Prob(Omnibus):                  0.000   Jarque-Bera (JB):           336973.139\n",
       "Skew:                           7.321   Prob(JB):                         0.00\n",
       "Kurtosis:                      72.914   Cond. No.                     3.31e+03\n",
       "==============================================================================\n",
       "\n",
       "Warnings:\n",
       "[1] Standard Errors assume that the covariance matrix of the errors is correctly specified.\n",
       "[2] The condition number is large, 3.31e+03. This might indicate that there are\n",
       "strong multicollinearity or other numerical problems.\n",
       "\"\"\""
      ]
     },
     "execution_count": 50,
     "metadata": {},
     "output_type": "execute_result"
    }
   ],
   "source": [
    "model1 = smf.ols( formula= 'GHG ~ I(AssessTot/10000) + siteEUI  + LtdHeight+ UnitsTotal  + ProxCode+ NumFloors  + age20 + age40 + age60 +I(income/10000)', data= bkBuildings2012).fit()\n",
    "model1.summary()"
   ]
  },
  {
   "cell_type": "code",
   "execution_count": 45,
   "metadata": {
    "collapsed": false
   },
   "outputs": [
    {
     "data": {
      "text/html": [
       "<table class=\"simpletable\">\n",
       "<caption>OLS Regression Results</caption>\n",
       "<tr>\n",
       "  <th>Dep. Variable:</th>           <td>GHG</td>       <th>  R-squared:         </th> <td>   0.283</td> \n",
       "</tr>\n",
       "<tr>\n",
       "  <th>Model:</th>                   <td>OLS</td>       <th>  Adj. R-squared:    </th> <td>   0.278</td> \n",
       "</tr>\n",
       "<tr>\n",
       "  <th>Method:</th>             <td>Least Squares</td>  <th>  F-statistic:       </th> <td>   62.12</td> \n",
       "</tr>\n",
       "<tr>\n",
       "  <th>Date:</th>             <td>Fri, 11 Dec 2015</td> <th>  Prob (F-statistic):</th> <td>2.07e-106</td>\n",
       "</tr>\n",
       "<tr>\n",
       "  <th>Time:</th>                 <td>10:26:26</td>     <th>  Log-Likelihood:    </th> <td> -16177.</td> \n",
       "</tr>\n",
       "<tr>\n",
       "  <th>No. Observations:</th>      <td>  1585</td>      <th>  AIC:               </th> <td>3.238e+04</td>\n",
       "</tr>\n",
       "<tr>\n",
       "  <th>Df Residuals:</th>          <td>  1574</td>      <th>  BIC:               </th> <td>3.243e+04</td>\n",
       "</tr>\n",
       "<tr>\n",
       "  <th>Df Model:</th>              <td>    10</td>      <th>                     </th>     <td> </td>    \n",
       "</tr>\n",
       "<tr>\n",
       "  <th>Covariance Type:</th>      <td>nonrobust</td>    <th>                     </th>     <td> </td>    \n",
       "</tr>\n",
       "</table>\n",
       "<table class=\"simpletable\">\n",
       "<tr>\n",
       "            <td></td>              <th>coef</th>     <th>std err</th>      <th>t</th>      <th>P>|t|</th> <th>[95.0% Conf. Int.]</th> \n",
       "</tr>\n",
       "<tr>\n",
       "  <th>Intercept</th>            <td>-3982.5788</td> <td>  602.729</td> <td>   -6.608</td> <td> 0.000</td> <td>-5164.815 -2800.343</td>\n",
       "</tr>\n",
       "<tr>\n",
       "  <th>LtdHeight[T.LH-1 ]</th>   <td>  220.4970</td> <td> 1704.755</td> <td>    0.129</td> <td> 0.897</td> <td>-3123.333  3564.327</td>\n",
       "</tr>\n",
       "<tr>\n",
       "  <th>age20[T.True]</th>        <td>  110.1872</td> <td>  623.881</td> <td>    0.177</td> <td> 0.860</td> <td>-1113.537  1333.912</td>\n",
       "</tr>\n",
       "<tr>\n",
       "  <th>age40[T.True]</th>        <td>-1300.5912</td> <td>  930.048</td> <td>   -1.398</td> <td> 0.162</td> <td>-3124.855   523.672</td>\n",
       "</tr>\n",
       "<tr>\n",
       "  <th>age60[T.True]</th>        <td> 1712.5713</td> <td>  422.038</td> <td>    4.058</td> <td> 0.000</td> <td>  884.755  2540.388</td>\n",
       "</tr>\n",
       "<tr>\n",
       "  <th>I(AssessTot / 10000)</th> <td>    4.3136</td> <td>    0.695</td> <td>    6.207</td> <td> 0.000</td> <td>    2.951     5.677</td>\n",
       "</tr>\n",
       "<tr>\n",
       "  <th>siteEUI</th>              <td>   85.7669</td> <td>    5.306</td> <td>   16.164</td> <td> 0.000</td> <td>   75.359    96.174</td>\n",
       "</tr>\n",
       "<tr>\n",
       "  <th>UnitsTotal</th>           <td>    8.1124</td> <td>    1.592</td> <td>    5.097</td> <td> 0.000</td> <td>    4.991    11.234</td>\n",
       "</tr>\n",
       "<tr>\n",
       "  <th>ProxCode</th>             <td>  734.2435</td> <td>  279.957</td> <td>    2.623</td> <td> 0.009</td> <td>  185.116  1283.371</td>\n",
       "</tr>\n",
       "<tr>\n",
       "  <th>NumFloors</th>            <td> -364.5530</td> <td>   51.326</td> <td>   -7.103</td> <td> 0.000</td> <td> -465.228  -263.878</td>\n",
       "</tr>\n",
       "<tr>\n",
       "  <th>I(income / 10000)</th>    <td> -317.6212</td> <td>   87.999</td> <td>   -3.609</td> <td> 0.000</td> <td> -490.229  -145.014</td>\n",
       "</tr>\n",
       "</table>\n",
       "<table class=\"simpletable\">\n",
       "<tr>\n",
       "  <th>Omnibus:</th>       <td>2096.122</td> <th>  Durbin-Watson:     </th>  <td>   0.622</td> \n",
       "</tr>\n",
       "<tr>\n",
       "  <th>Prob(Omnibus):</th>  <td> 0.000</td>  <th>  Jarque-Bera (JB):  </th> <td>336938.380</td>\n",
       "</tr>\n",
       "<tr>\n",
       "  <th>Skew:</th>           <td> 7.321</td>  <th>  Prob(JB):          </th>  <td>    0.00</td> \n",
       "</tr>\n",
       "<tr>\n",
       "  <th>Kurtosis:</th>       <td>72.911</td>  <th>  Cond. No.          </th>  <td>6.04e+03</td> \n",
       "</tr>\n",
       "</table>"
      ],
      "text/plain": [
       "<class 'statsmodels.iolib.summary.Summary'>\n",
       "\"\"\"\n",
       "                            OLS Regression Results                            \n",
       "==============================================================================\n",
       "Dep. Variable:                    GHG   R-squared:                       0.283\n",
       "Model:                            OLS   Adj. R-squared:                  0.278\n",
       "Method:                 Least Squares   F-statistic:                     62.12\n",
       "Date:                Fri, 11 Dec 2015   Prob (F-statistic):          2.07e-106\n",
       "Time:                        10:26:26   Log-Likelihood:                -16177.\n",
       "No. Observations:                1585   AIC:                         3.238e+04\n",
       "Df Residuals:                    1574   BIC:                         3.243e+04\n",
       "Df Model:                          10                                         \n",
       "Covariance Type:            nonrobust                                         \n",
       "========================================================================================\n",
       "                           coef    std err          t      P>|t|      [95.0% Conf. Int.]\n",
       "----------------------------------------------------------------------------------------\n",
       "Intercept            -3982.5788    602.729     -6.608      0.000     -5164.815 -2800.343\n",
       "LtdHeight[T.LH-1 ]     220.4970   1704.755      0.129      0.897     -3123.333  3564.327\n",
       "age20[T.True]          110.1872    623.881      0.177      0.860     -1113.537  1333.912\n",
       "age40[T.True]        -1300.5912    930.048     -1.398      0.162     -3124.855   523.672\n",
       "age60[T.True]         1712.5713    422.038      4.058      0.000       884.755  2540.388\n",
       "I(AssessTot / 10000)     4.3136      0.695      6.207      0.000         2.951     5.677\n",
       "siteEUI                 85.7669      5.306     16.164      0.000        75.359    96.174\n",
       "UnitsTotal               8.1124      1.592      5.097      0.000         4.991    11.234\n",
       "ProxCode               734.2435    279.957      2.623      0.009       185.116  1283.371\n",
       "NumFloors             -364.5530     51.326     -7.103      0.000      -465.228  -263.878\n",
       "I(income / 10000)     -317.6212     87.999     -3.609      0.000      -490.229  -145.014\n",
       "==============================================================================\n",
       "Omnibus:                     2096.122   Durbin-Watson:                   0.622\n",
       "Prob(Omnibus):                  0.000   Jarque-Bera (JB):           336938.380\n",
       "Skew:                           7.321   Prob(JB):                         0.00\n",
       "Kurtosis:                      72.911   Cond. No.                     6.04e+03\n",
       "==============================================================================\n",
       "\n",
       "Warnings:\n",
       "[1] Standard Errors assume that the covariance matrix of the errors is correctly specified.\n",
       "[2] The condition number is large, 6.04e+03. This might indicate that there are\n",
       "strong multicollinearity or other numerical problems.\n",
       "\"\"\""
      ]
     },
     "execution_count": 45,
     "metadata": {},
     "output_type": "execute_result"
    }
   ],
   "source": [
    "# print(nycBuildings2012.columns)\n",
    "bxBuildings2012 = bxBuildings2012[bxBuildings2012['Site EUI(kBtu/ft2)']<300][['Site EUI(kBtu/ft2)', \n",
    "                                   'Property Floor Area (Buildngs and Parking)(ft2)', 'ZipCode',\n",
    "                                   'Number of Buildings', 'UnitsRes', 'UnitsTotal', 'YearBuilt',\n",
    "                                   'LotArea', 'NumFloors', 'ResArea', 'RetailArea', 'AssessTot', \n",
    "                                    'CommFAR', 'FacilFAR', 'BuiltFAR', 'ResidFAR',\n",
    "                                    'LotArea', 'LotFront', 'LotDepth', 'BldgFront',\n",
    "                                    'Total GHG Emissions(MtCO2e)', 'CB2010', 'CT2010'\n",
    "                                    ,'Indoor Water Intensity (All Water Sources)(gal/ft2)'\n",
    "                                    , 'ProxCode', 'LtdHeight', 'HistDist'\n",
    "                                    , 'BldgArea', 'ComArea', 'OfficeArea', 'RetailArea', \n",
    "                                    'GarageArea', 'StrgeArea','FactryArea', 'OtherArea']]\n",
    "\n",
    "bxBuildings2012 = bxBuildings2012.rename(columns={'Site EUI(kBtu/ft2)': 'siteEUI'\n",
    "                                 ,'Property Floor Area (Buildngs and Parking)(ft2)' : 'floorArea'\n",
    "                                 , 'Number of Buildings' : 'numBldgs'\n",
    "                                 , 'Total GHG Emissions(MtCO2e)' : 'GHG'\n",
    "                                 ,'Indoor Water Intensity (All Water Sources)(gal/ft2)':'water'})\n",
    "\n",
    "bxBuildings2012['totalEUI'] = bxBuildings2012.siteEUI * bxBuildings2012.floorArea\n",
    "bxBuildings2012['age20'] = bxBuildings2012['YearBuilt'] > 1995\n",
    "bxBuildings2012['age40'] = (bxBuildings2012['YearBuilt'] > 1975) & ( bxBuildings2012['YearBuilt'] < 1995)\n",
    "bxBuildings2012['age60'] = (bxBuildings2012['YearBuilt'] > 1955) & (bxBuildings2012['YearBuilt'] < 1975)\n",
    "bxBuildings2012['age60ab'] = bxBuildings2012['YearBuilt'] < 1955\n",
    "bxBuildings2012['nonRes'] = bxBuildings2012.floorArea.astype(float) -  bxBuildings2012.ResArea.astype(float)\n",
    "bxBuildings2012[\"CT2010\"] = bxBuildings2012[\"CT2010\"].astype(float).astype(int)\n",
    "bxBuildings2012[\"ProxCode\"] = bxBuildings2012[\"ProxCode\"].astype(float).astype(int)\n",
    "bxBuildings2012['income'] = bxBuildings2012[\"CT2010\"].map(incomed.get)\n",
    "bxBuildings2012 = bxBuildings2012[bxBuildings2012.income>0]\n",
    "model1 = smf.ols( formula= 'siteEUI ~ I(income/10000) + LtdHeight + NumFloors + floorArea ', data= bxBuildings2012).fit()\n",
    "model1.summary()\n",
    "model1 = smf.ols( formula= 'GHG ~ I(AssessTot/10000) + siteEUI  + LtdHeight+ UnitsTotal  + ProxCode+ NumFloors  + age20 + age40 + age60 +I(income/10000)', data= bxBuildings2012).fit()\n",
    "model1.summary()"
   ]
  },
  {
   "cell_type": "code",
   "execution_count": 46,
   "metadata": {
    "collapsed": false
   },
   "outputs": [
    {
     "data": {
      "text/html": [
       "<table class=\"simpletable\">\n",
       "<caption>OLS Regression Results</caption>\n",
       "<tr>\n",
       "  <th>Dep. Variable:</th>           <td>GHG</td>       <th>  R-squared:         </th> <td>   0.543</td>\n",
       "</tr>\n",
       "<tr>\n",
       "  <th>Model:</th>                   <td>OLS</td>       <th>  Adj. R-squared:    </th> <td>   0.496</td>\n",
       "</tr>\n",
       "<tr>\n",
       "  <th>Method:</th>             <td>Least Squares</td>  <th>  F-statistic:       </th> <td>   11.60</td>\n",
       "</tr>\n",
       "<tr>\n",
       "  <th>Date:</th>             <td>Fri, 11 Dec 2015</td> <th>  Prob (F-statistic):</th> <td>8.16e-12</td>\n",
       "</tr>\n",
       "<tr>\n",
       "  <th>Time:</th>                 <td>10:26:26</td>     <th>  Log-Likelihood:    </th> <td> -739.02</td>\n",
       "</tr>\n",
       "<tr>\n",
       "  <th>No. Observations:</th>      <td>    98</td>      <th>  AIC:               </th> <td>   1498.</td>\n",
       "</tr>\n",
       "<tr>\n",
       "  <th>Df Residuals:</th>          <td>    88</td>      <th>  BIC:               </th> <td>   1524.</td>\n",
       "</tr>\n",
       "<tr>\n",
       "  <th>Df Model:</th>              <td>     9</td>      <th>                     </th>     <td> </td>   \n",
       "</tr>\n",
       "<tr>\n",
       "  <th>Covariance Type:</th>      <td>nonrobust</td>    <th>                     </th>     <td> </td>   \n",
       "</tr>\n",
       "</table>\n",
       "<table class=\"simpletable\">\n",
       "<tr>\n",
       "            <td></td>              <th>coef</th>     <th>std err</th>      <th>t</th>      <th>P>|t|</th> <th>[95.0% Conf. Int.]</th> \n",
       "</tr>\n",
       "<tr>\n",
       "  <th>Intercept</th>            <td>-1074.5732</td> <td>  281.364</td> <td>   -3.819</td> <td> 0.000</td> <td>-1633.724  -515.422</td>\n",
       "</tr>\n",
       "<tr>\n",
       "  <th>age20[T.True]</th>        <td>  439.2547</td> <td>  241.652</td> <td>    1.818</td> <td> 0.073</td> <td>  -40.978   919.488</td>\n",
       "</tr>\n",
       "<tr>\n",
       "  <th>age40[T.True]</th>        <td>  273.0688</td> <td>  169.782</td> <td>    1.608</td> <td> 0.111</td> <td>  -64.337   610.475</td>\n",
       "</tr>\n",
       "<tr>\n",
       "  <th>age60[T.True]</th>        <td>  471.0109</td> <td>  147.952</td> <td>    3.184</td> <td> 0.002</td> <td>  176.987   765.034</td>\n",
       "</tr>\n",
       "<tr>\n",
       "  <th>I(AssessTot / 10000)</th> <td>    0.0816</td> <td>    0.389</td> <td>    0.210</td> <td> 0.834</td> <td>   -0.692     0.855</td>\n",
       "</tr>\n",
       "<tr>\n",
       "  <th>siteEUI</th>              <td>    7.6709</td> <td>    2.068</td> <td>    3.709</td> <td> 0.000</td> <td>    3.561    11.781</td>\n",
       "</tr>\n",
       "<tr>\n",
       "  <th>UnitsTotal</th>           <td>    1.5502</td> <td>    0.850</td> <td>    1.824</td> <td> 0.072</td> <td>   -0.139     3.239</td>\n",
       "</tr>\n",
       "<tr>\n",
       "  <th>ProxCode</th>             <td> -336.5016</td> <td>  132.412</td> <td>   -2.541</td> <td> 0.013</td> <td> -599.642   -73.361</td>\n",
       "</tr>\n",
       "<tr>\n",
       "  <th>NumFloors</th>            <td>   89.6122</td> <td>   20.153</td> <td>    4.447</td> <td> 0.000</td> <td>   49.562   129.663</td>\n",
       "</tr>\n",
       "<tr>\n",
       "  <th>I(income / 10000)</th>    <td>   26.2303</td> <td>   19.052</td> <td>    1.377</td> <td> 0.172</td> <td>  -11.632    64.092</td>\n",
       "</tr>\n",
       "</table>\n",
       "<table class=\"simpletable\">\n",
       "<tr>\n",
       "  <th>Omnibus:</th>       <td>77.564</td> <th>  Durbin-Watson:     </th> <td>   1.355</td> \n",
       "</tr>\n",
       "<tr>\n",
       "  <th>Prob(Omnibus):</th> <td> 0.000</td> <th>  Jarque-Bera (JB):  </th> <td> 487.658</td> \n",
       "</tr>\n",
       "<tr>\n",
       "  <th>Skew:</th>          <td> 2.624</td> <th>  Prob(JB):          </th> <td>1.28e-106</td>\n",
       "</tr>\n",
       "<tr>\n",
       "  <th>Kurtosis:</th>      <td>12.586</td> <th>  Cond. No.          </th> <td>3.64e+03</td> \n",
       "</tr>\n",
       "</table>"
      ],
      "text/plain": [
       "<class 'statsmodels.iolib.summary.Summary'>\n",
       "\"\"\"\n",
       "                            OLS Regression Results                            \n",
       "==============================================================================\n",
       "Dep. Variable:                    GHG   R-squared:                       0.543\n",
       "Model:                            OLS   Adj. R-squared:                  0.496\n",
       "Method:                 Least Squares   F-statistic:                     11.60\n",
       "Date:                Fri, 11 Dec 2015   Prob (F-statistic):           8.16e-12\n",
       "Time:                        10:26:26   Log-Likelihood:                -739.02\n",
       "No. Observations:                  98   AIC:                             1498.\n",
       "Df Residuals:                      88   BIC:                             1524.\n",
       "Df Model:                           9                                         \n",
       "Covariance Type:            nonrobust                                         \n",
       "========================================================================================\n",
       "                           coef    std err          t      P>|t|      [95.0% Conf. Int.]\n",
       "----------------------------------------------------------------------------------------\n",
       "Intercept            -1074.5732    281.364     -3.819      0.000     -1633.724  -515.422\n",
       "age20[T.True]          439.2547    241.652      1.818      0.073       -40.978   919.488\n",
       "age40[T.True]          273.0688    169.782      1.608      0.111       -64.337   610.475\n",
       "age60[T.True]          471.0109    147.952      3.184      0.002       176.987   765.034\n",
       "I(AssessTot / 10000)     0.0816      0.389      0.210      0.834        -0.692     0.855\n",
       "siteEUI                  7.6709      2.068      3.709      0.000         3.561    11.781\n",
       "UnitsTotal               1.5502      0.850      1.824      0.072        -0.139     3.239\n",
       "ProxCode              -336.5016    132.412     -2.541      0.013      -599.642   -73.361\n",
       "NumFloors               89.6122     20.153      4.447      0.000        49.562   129.663\n",
       "I(income / 10000)       26.2303     19.052      1.377      0.172       -11.632    64.092\n",
       "==============================================================================\n",
       "Omnibus:                       77.564   Durbin-Watson:                   1.355\n",
       "Prob(Omnibus):                  0.000   Jarque-Bera (JB):              487.658\n",
       "Skew:                           2.624   Prob(JB):                    1.28e-106\n",
       "Kurtosis:                      12.586   Cond. No.                     3.64e+03\n",
       "==============================================================================\n",
       "\n",
       "Warnings:\n",
       "[1] Standard Errors assume that the covariance matrix of the errors is correctly specified.\n",
       "[2] The condition number is large, 3.64e+03. This might indicate that there are\n",
       "strong multicollinearity or other numerical problems.\n",
       "\"\"\""
      ]
     },
     "execution_count": 46,
     "metadata": {},
     "output_type": "execute_result"
    }
   ],
   "source": [
    "# print(nycBuildings2012.columns)\n",
    "siBuildings2012 = siBuildings2012[siBuildings2012['Site EUI(kBtu/ft2)']<300][['Site EUI(kBtu/ft2)', \n",
    "                                   'Property Floor Area (Buildngs and Parking)(ft2)', 'ZipCode',\n",
    "                                   'Number of Buildings', 'UnitsRes', 'UnitsTotal', 'YearBuilt',\n",
    "                                   'LotArea', 'NumFloors', 'ResArea', 'RetailArea', 'AssessTot', \n",
    "                                    'CommFAR', 'FacilFAR', 'BuiltFAR', 'ResidFAR',\n",
    "                                    'LotArea', 'LotFront', 'LotDepth', 'BldgFront',\n",
    "                                    'Total GHG Emissions(MtCO2e)', 'CB2010', 'CT2010'\n",
    "                                    ,'Indoor Water Intensity (All Water Sources)(gal/ft2)'\n",
    "                                    , 'ProxCode', 'LtdHeight', 'HistDist'\n",
    "                                    , 'BldgArea', 'ComArea', 'OfficeArea', 'RetailArea', \n",
    "                                    'GarageArea', 'StrgeArea','FactryArea', 'OtherArea']]\n",
    "\n",
    "siBuildings2012 = siBuildings2012.rename(columns={'Site EUI(kBtu/ft2)': 'siteEUI'\n",
    "                                 ,'Property Floor Area (Buildngs and Parking)(ft2)' : 'floorArea'\n",
    "                                 , 'Number of Buildings' : 'numBldgs'\n",
    "                                 , 'Total GHG Emissions(MtCO2e)' : 'GHG'\n",
    "                                 ,'Indoor Water Intensity (All Water Sources)(gal/ft2)':'water'})\n",
    "\n",
    "siBuildings2012['totalEUI'] = siBuildings2012.siteEUI * siBuildings2012.floorArea\n",
    "siBuildings2012['age20'] = siBuildings2012['YearBuilt'] > 1995\n",
    "siBuildings2012['age40'] = (siBuildings2012['YearBuilt'] > 1975) & ( siBuildings2012['YearBuilt'] < 1995)\n",
    "siBuildings2012['age60'] = (siBuildings2012['YearBuilt'] > 1955) & (siBuildings2012['YearBuilt'] < 1975)\n",
    "siBuildings2012['age60ab'] = siBuildings2012['YearBuilt'] < 1955\n",
    "siBuildings2012['nonRes'] = siBuildings2012.floorArea.astype(float) -  siBuildings2012.ResArea.astype(float)\n",
    "siBuildings2012[\"CT2010\"] = siBuildings2012[\"CT2010\"].astype(float).astype(int)\n",
    "siBuildings2012[\"ProxCode\"] = siBuildings2012[\"ProxCode\"].astype(float).astype(int)\n",
    "siBuildings2012['income'] = siBuildings2012[\"CT2010\"].map(incomed.get)\n",
    "siBuildings2012 = siBuildings2012[siBuildings2012.income>0]\n",
    "model1 = smf.ols( formula= 'GHG ~ I(AssessTot/10000) + siteEUI  + LtdHeight+ UnitsTotal  + ProxCode+ NumFloors  + age20 + age40 + age60 +I(income/10000)', data= siBuildings2012).fit()\n",
    "model1.summary()"
   ]
  },
  {
   "cell_type": "code",
   "execution_count": 47,
   "metadata": {
    "collapsed": false
   },
   "outputs": [
    {
     "data": {
      "text/html": [
       "<table class=\"simpletable\">\n",
       "<caption>OLS Regression Results</caption>\n",
       "<tr>\n",
       "  <th>Dep. Variable:</th>         <td>siteEUI</td>     <th>  R-squared:         </th> <td>   0.071</td>\n",
       "</tr>\n",
       "<tr>\n",
       "  <th>Model:</th>                   <td>OLS</td>       <th>  Adj. R-squared:    </th> <td>   0.041</td>\n",
       "</tr>\n",
       "<tr>\n",
       "  <th>Method:</th>             <td>Least Squares</td>  <th>  F-statistic:       </th> <td>   2.388</td>\n",
       "</tr>\n",
       "<tr>\n",
       "  <th>Date:</th>             <td>Fri, 11 Dec 2015</td> <th>  Prob (F-statistic):</th>  <td>0.0739</td> \n",
       "</tr>\n",
       "<tr>\n",
       "  <th>Time:</th>                 <td>10:26:26</td>     <th>  Log-Likelihood:    </th> <td> -460.29</td>\n",
       "</tr>\n",
       "<tr>\n",
       "  <th>No. Observations:</th>      <td>    98</td>      <th>  AIC:               </th> <td>   928.6</td>\n",
       "</tr>\n",
       "<tr>\n",
       "  <th>Df Residuals:</th>          <td>    94</td>      <th>  BIC:               </th> <td>   938.9</td>\n",
       "</tr>\n",
       "<tr>\n",
       "  <th>Df Model:</th>              <td>     3</td>      <th>                     </th>     <td> </td>   \n",
       "</tr>\n",
       "<tr>\n",
       "  <th>Covariance Type:</th>      <td>nonrobust</td>    <th>                     </th>     <td> </td>   \n",
       "</tr>\n",
       "</table>\n",
       "<table class=\"simpletable\">\n",
       "<tr>\n",
       "          <td></td>             <th>coef</th>     <th>std err</th>      <th>t</th>      <th>P>|t|</th> <th>[95.0% Conf. Int.]</th> \n",
       "</tr>\n",
       "<tr>\n",
       "  <th>Intercept</th>         <td>   80.1874</td> <td>    7.113</td> <td>   11.274</td> <td> 0.000</td> <td>   66.065    94.309</td>\n",
       "</tr>\n",
       "<tr>\n",
       "  <th>I(income / 10000)</th> <td>   -2.3429</td> <td>    0.935</td> <td>   -2.505</td> <td> 0.014</td> <td>   -4.200    -0.486</td>\n",
       "</tr>\n",
       "<tr>\n",
       "  <th>NumFloors</th>         <td>    0.8526</td> <td>    1.111</td> <td>    0.768</td> <td> 0.445</td> <td>   -1.353     3.058</td>\n",
       "</tr>\n",
       "<tr>\n",
       "  <th>floorArea</th>         <td> 6.237e-06</td> <td> 3.25e-05</td> <td>    0.192</td> <td> 0.848</td> <td>-5.82e-05  7.07e-05</td>\n",
       "</tr>\n",
       "</table>\n",
       "<table class=\"simpletable\">\n",
       "<tr>\n",
       "  <th>Omnibus:</th>       <td> 3.563</td> <th>  Durbin-Watson:     </th> <td>   1.376</td>\n",
       "</tr>\n",
       "<tr>\n",
       "  <th>Prob(Omnibus):</th> <td> 0.168</td> <th>  Jarque-Bera (JB):  </th> <td>   2.880</td>\n",
       "</tr>\n",
       "<tr>\n",
       "  <th>Skew:</th>          <td> 0.355</td> <th>  Prob(JB):          </th> <td>   0.237</td>\n",
       "</tr>\n",
       "<tr>\n",
       "  <th>Kurtosis:</th>      <td> 3.448</td> <th>  Cond. No.          </th> <td>4.05e+05</td>\n",
       "</tr>\n",
       "</table>"
      ],
      "text/plain": [
       "<class 'statsmodels.iolib.summary.Summary'>\n",
       "\"\"\"\n",
       "                            OLS Regression Results                            \n",
       "==============================================================================\n",
       "Dep. Variable:                siteEUI   R-squared:                       0.071\n",
       "Model:                            OLS   Adj. R-squared:                  0.041\n",
       "Method:                 Least Squares   F-statistic:                     2.388\n",
       "Date:                Fri, 11 Dec 2015   Prob (F-statistic):             0.0739\n",
       "Time:                        10:26:26   Log-Likelihood:                -460.29\n",
       "No. Observations:                  98   AIC:                             928.6\n",
       "Df Residuals:                      94   BIC:                             938.9\n",
       "Df Model:                           3                                         \n",
       "Covariance Type:            nonrobust                                         \n",
       "=====================================================================================\n",
       "                        coef    std err          t      P>|t|      [95.0% Conf. Int.]\n",
       "-------------------------------------------------------------------------------------\n",
       "Intercept            80.1874      7.113     11.274      0.000        66.065    94.309\n",
       "I(income / 10000)    -2.3429      0.935     -2.505      0.014        -4.200    -0.486\n",
       "NumFloors             0.8526      1.111      0.768      0.445        -1.353     3.058\n",
       "floorArea          6.237e-06   3.25e-05      0.192      0.848     -5.82e-05  7.07e-05\n",
       "==============================================================================\n",
       "Omnibus:                        3.563   Durbin-Watson:                   1.376\n",
       "Prob(Omnibus):                  0.168   Jarque-Bera (JB):                2.880\n",
       "Skew:                           0.355   Prob(JB):                        0.237\n",
       "Kurtosis:                       3.448   Cond. No.                     4.05e+05\n",
       "==============================================================================\n",
       "\n",
       "Warnings:\n",
       "[1] Standard Errors assume that the covariance matrix of the errors is correctly specified.\n",
       "[2] The condition number is large, 4.05e+05. This might indicate that there are\n",
       "strong multicollinearity or other numerical problems.\n",
       "\"\"\""
      ]
     },
     "execution_count": 47,
     "metadata": {},
     "output_type": "execute_result"
    }
   ],
   "source": [
    "model1 = smf.ols( formula= 'siteEUI ~ I(income/10000) + LtdHeight + NumFloors + floorArea ', data= siBuildings2012).fit()\n",
    "model1.summary()  "
   ]
  },
  {
   "cell_type": "code",
   "execution_count": 48,
   "metadata": {
    "collapsed": false
   },
   "outputs": [],
   "source": [
    "# print(nycBuildings2012.columns)\n",
    "qnBuildings2012 = qnBuildings2012[qnBuildings2012['Site EUI(kBtu/ft2)']<300][['Site EUI(kBtu/ft2)', \n",
    "                                   'Property Floor Area (Buildngs and Parking)(ft2)', 'ZipCode',\n",
    "                                   'Number of Buildings', 'UnitsRes', 'UnitsTotal', 'YearBuilt',\n",
    "                                   'LotArea', 'NumFloors', 'ResArea', 'RetailArea', 'AssessTot', \n",
    "                                    'CommFAR', 'FacilFAR', 'BuiltFAR', 'ResidFAR',\n",
    "                                    'LotArea', 'LotFront', 'LotDepth', 'BldgFront',\n",
    "                                    'Total GHG Emissions(MtCO2e)', 'CB2010', 'CT2010'\n",
    "                                    ,'Indoor Water Intensity (All Water Sources)(gal/ft2)'\n",
    "                                    , 'ProxCode', 'LtdHeight', 'HistDist'\n",
    "                                    , 'BldgArea', 'ComArea', 'OfficeArea', 'RetailArea', \n",
    "                                    'GarageArea', 'StrgeArea','FactryArea', 'OtherArea']]\n",
    "\n",
    "qnBuildings2012 = qnBuildings2012.rename(columns={'Site EUI(kBtu/ft2)': 'siteEUI'\n",
    "                                 ,'Property Floor Area (Buildngs and Parking)(ft2)' : 'floorArea'\n",
    "                                 , 'Number of Buildings' : 'numBldgs'\n",
    "                                 , 'Total GHG Emissions(MtCO2e)' : 'GHG'\n",
    "                                 ,'Indoor Water Intensity (All Water Sources)(gal/ft2)':'water'})\n",
    "\n",
    "qnBuildings2012['totalEUI'] = qnBuildings2012.siteEUI * qnBuildings2012.floorArea\n",
    "qnBuildings2012['age20'] = qnBuildings2012['YearBuilt'] > 1995\n",
    "qnBuildings2012['age40'] = (qnBuildings2012['YearBuilt'] > 1975) & ( qnBuildings2012['YearBuilt'] < 1995)\n",
    "qnBuildings2012['age60'] = (qnBuildings2012['YearBuilt'] > 1955) & (qnBuildings2012['YearBuilt'] < 1975)\n",
    "qnBuildings2012['age60ab'] = qnBuildings2012['YearBuilt'] < 1955\n",
    "qnBuildings2012['nonRes'] = qnBuildings2012.floorArea.astype(float) -  qnBuildings2012.ResArea.astype(float)\n",
    "qnBuildings2012[\"CT2010\"] = qnBuildings2012[\"CT2010\"].astype(float).astype(int)\n",
    "qnBuildings2012[\"ProxCode\"] = qnBuildings2012[\"ProxCode\"].astype(float).astype(int)\n",
    "qnBuildings2012['income'] = qnBuildings2012[\"CT2010\"].map(incomed.get)\n",
    "qnBuildings2012 = qnBuildings2012[qnBuildings2012.income>0]"
   ]
  },
  {
   "cell_type": "code",
   "execution_count": null,
   "metadata": {
    "collapsed": false
   },
   "outputs": [],
   "source": []
  },
  {
   "cell_type": "code",
   "execution_count": 49,
   "metadata": {
    "collapsed": false
   },
   "outputs": [
    {
     "data": {
      "text/html": [
       "<table class=\"simpletable\">\n",
       "<caption>OLS Regression Results</caption>\n",
       "<tr>\n",
       "  <th>Dep. Variable:</th>         <td>siteEUI</td>     <th>  R-squared:         </th> <td>   0.013</td> \n",
       "</tr>\n",
       "<tr>\n",
       "  <th>Model:</th>                   <td>OLS</td>       <th>  Adj. R-squared:    </th> <td>   0.011</td> \n",
       "</tr>\n",
       "<tr>\n",
       "  <th>Method:</th>             <td>Least Squares</td>  <th>  F-statistic:       </th> <td>   6.929</td> \n",
       "</tr>\n",
       "<tr>\n",
       "  <th>Date:</th>             <td>Fri, 11 Dec 2015</td> <th>  Prob (F-statistic):</th> <td>0.000124</td> \n",
       "</tr>\n",
       "<tr>\n",
       "  <th>Time:</th>                 <td>10:26:26</td>     <th>  Log-Likelihood:    </th> <td> -7943.9</td> \n",
       "</tr>\n",
       "<tr>\n",
       "  <th>No. Observations:</th>      <td>  1585</td>      <th>  AIC:               </th> <td>1.590e+04</td>\n",
       "</tr>\n",
       "<tr>\n",
       "  <th>Df Residuals:</th>          <td>  1581</td>      <th>  BIC:               </th> <td>1.592e+04</td>\n",
       "</tr>\n",
       "<tr>\n",
       "  <th>Df Model:</th>              <td>     3</td>      <th>                     </th>     <td> </td>    \n",
       "</tr>\n",
       "<tr>\n",
       "  <th>Covariance Type:</th>      <td>nonrobust</td>    <th>                     </th>     <td> </td>    \n",
       "</tr>\n",
       "</table>\n",
       "<table class=\"simpletable\">\n",
       "<tr>\n",
       "          <td></td>             <th>coef</th>     <th>std err</th>      <th>t</th>      <th>P>|t|</th> <th>[95.0% Conf. Int.]</th> \n",
       "</tr>\n",
       "<tr>\n",
       "  <th>Intercept</th>         <td>   79.3003</td> <td>    3.107</td> <td>   25.521</td> <td> 0.000</td> <td>   73.206    85.395</td>\n",
       "</tr>\n",
       "<tr>\n",
       "  <th>I(income / 10000)</th> <td>    1.0918</td> <td>    0.568</td> <td>    1.922</td> <td> 0.055</td> <td>   -0.022     2.206</td>\n",
       "</tr>\n",
       "<tr>\n",
       "  <th>NumFloors</th>         <td>   -0.7171</td> <td>    0.279</td> <td>   -2.571</td> <td> 0.010</td> <td>   -1.264    -0.170</td>\n",
       "</tr>\n",
       "<tr>\n",
       "  <th>floorArea</th>         <td> -1.06e-05</td> <td> 8.05e-06</td> <td>   -1.317</td> <td> 0.188</td> <td>-2.64e-05  5.19e-06</td>\n",
       "</tr>\n",
       "</table>\n",
       "<table class=\"simpletable\">\n",
       "<tr>\n",
       "  <th>Omnibus:</th>       <td>423.440</td> <th>  Durbin-Watson:     </th> <td>   1.413</td>\n",
       "</tr>\n",
       "<tr>\n",
       "  <th>Prob(Omnibus):</th> <td> 0.000</td>  <th>  Jarque-Bera (JB):  </th> <td>2197.462</td>\n",
       "</tr>\n",
       "<tr>\n",
       "  <th>Skew:</th>          <td> 1.153</td>  <th>  Prob(JB):          </th> <td>    0.00</td>\n",
       "</tr>\n",
       "<tr>\n",
       "  <th>Kurtosis:</th>      <td> 8.287</td>  <th>  Cond. No.          </th> <td>6.30e+05</td>\n",
       "</tr>\n",
       "</table>"
      ],
      "text/plain": [
       "<class 'statsmodels.iolib.summary.Summary'>\n",
       "\"\"\"\n",
       "                            OLS Regression Results                            \n",
       "==============================================================================\n",
       "Dep. Variable:                siteEUI   R-squared:                       0.013\n",
       "Model:                            OLS   Adj. R-squared:                  0.011\n",
       "Method:                 Least Squares   F-statistic:                     6.929\n",
       "Date:                Fri, 11 Dec 2015   Prob (F-statistic):           0.000124\n",
       "Time:                        10:26:26   Log-Likelihood:                -7943.9\n",
       "No. Observations:                1585   AIC:                         1.590e+04\n",
       "Df Residuals:                    1581   BIC:                         1.592e+04\n",
       "Df Model:                           3                                         \n",
       "Covariance Type:            nonrobust                                         \n",
       "=====================================================================================\n",
       "                        coef    std err          t      P>|t|      [95.0% Conf. Int.]\n",
       "-------------------------------------------------------------------------------------\n",
       "Intercept            79.3003      3.107     25.521      0.000        73.206    85.395\n",
       "I(income / 10000)     1.0918      0.568      1.922      0.055        -0.022     2.206\n",
       "NumFloors            -0.7171      0.279     -2.571      0.010        -1.264    -0.170\n",
       "floorArea          -1.06e-05   8.05e-06     -1.317      0.188     -2.64e-05  5.19e-06\n",
       "==============================================================================\n",
       "Omnibus:                      423.440   Durbin-Watson:                   1.413\n",
       "Prob(Omnibus):                  0.000   Jarque-Bera (JB):             2197.462\n",
       "Skew:                           1.153   Prob(JB):                         0.00\n",
       "Kurtosis:                       8.287   Cond. No.                     6.30e+05\n",
       "==============================================================================\n",
       "\n",
       "Warnings:\n",
       "[1] Standard Errors assume that the covariance matrix of the errors is correctly specified.\n",
       "[2] The condition number is large, 6.3e+05. This might indicate that there are\n",
       "strong multicollinearity or other numerical problems.\n",
       "\"\"\""
      ]
     },
     "execution_count": 49,
     "metadata": {},
     "output_type": "execute_result"
    }
   ],
   "source": [
    "model1 = smf.ols( formula= 'siteEUI ~ I(income/10000) + LtdHeight + NumFloors + floorArea ', data= qnBuildings2012).fit()\n",
    "model1.summary()  "
   ]
  },
  {
   "cell_type": "code",
   "execution_count": null,
   "metadata": {
    "collapsed": false
   },
   "outputs": [],
   "source": []
  },
  {
   "cell_type": "code",
   "execution_count": null,
   "metadata": {
    "collapsed": true
   },
   "outputs": [],
   "source": []
  },
  {
   "cell_type": "code",
   "execution_count": null,
   "metadata": {
    "collapsed": false
   },
   "outputs": [],
   "source": [
    "    "
   ]
  },
  {
   "cell_type": "code",
   "execution_count": null,
   "metadata": {
    "collapsed": true
   },
   "outputs": [],
   "source": []
  },
  {
   "cell_type": "code",
   "execution_count": null,
   "metadata": {
    "collapsed": true
   },
   "outputs": [],
   "source": []
  },
  {
   "cell_type": "code",
   "execution_count": null,
   "metadata": {
    "collapsed": false
   },
   "outputs": [],
   "source": []
  },
  {
   "cell_type": "code",
   "execution_count": null,
   "metadata": {
    "collapsed": false
   },
   "outputs": [],
   "source": []
  },
  {
   "cell_type": "code",
   "execution_count": null,
   "metadata": {
    "collapsed": false
   },
   "outputs": [],
   "source": []
  },
  {
   "cell_type": "code",
   "execution_count": null,
   "metadata": {
    "collapsed": false
   },
   "outputs": [],
   "source": []
  },
  {
   "cell_type": "code",
   "execution_count": null,
   "metadata": {
    "collapsed": false
   },
   "outputs": [],
   "source": []
  },
  {
   "cell_type": "code",
   "execution_count": null,
   "metadata": {
    "collapsed": false
   },
   "outputs": [],
   "source": []
  },
  {
   "cell_type": "code",
   "execution_count": null,
   "metadata": {
    "collapsed": false
   },
   "outputs": [],
   "source": []
  },
  {
   "cell_type": "code",
   "execution_count": null,
   "metadata": {
    "collapsed": false
   },
   "outputs": [],
   "source": []
  },
  {
   "cell_type": "code",
   "execution_count": null,
   "metadata": {
    "collapsed": true
   },
   "outputs": [],
   "source": []
  },
  {
   "cell_type": "code",
   "execution_count": null,
   "metadata": {
    "collapsed": true
   },
   "outputs": [],
   "source": []
  },
  {
   "cell_type": "code",
   "execution_count": null,
   "metadata": {
    "collapsed": true
   },
   "outputs": [],
   "source": []
  },
  {
   "cell_type": "code",
   "execution_count": null,
   "metadata": {
    "collapsed": false
   },
   "outputs": [],
   "source": []
  },
  {
   "cell_type": "code",
   "execution_count": null,
   "metadata": {
    "collapsed": false
   },
   "outputs": [],
   "source": []
  },
  {
   "cell_type": "code",
   "execution_count": null,
   "metadata": {
    "collapsed": false
   },
   "outputs": [],
   "source": []
  },
  {
   "cell_type": "code",
   "execution_count": null,
   "metadata": {
    "collapsed": false
   },
   "outputs": [],
   "source": []
  },
  {
   "cell_type": "code",
   "execution_count": null,
   "metadata": {
    "collapsed": false
   },
   "outputs": [],
   "source": []
  },
  {
   "cell_type": "code",
   "execution_count": null,
   "metadata": {
    "collapsed": false
   },
   "outputs": [],
   "source": []
  },
  {
   "cell_type": "code",
   "execution_count": null,
   "metadata": {
    "collapsed": false
   },
   "outputs": [],
   "source": []
  },
  {
   "cell_type": "code",
   "execution_count": null,
   "metadata": {
    "collapsed": true
   },
   "outputs": [],
   "source": []
  },
  {
   "cell_type": "code",
   "execution_count": null,
   "metadata": {
    "collapsed": false
   },
   "outputs": [],
   "source": []
  },
  {
   "cell_type": "code",
   "execution_count": null,
   "metadata": {
    "collapsed": true
   },
   "outputs": [],
   "source": []
  },
  {
   "cell_type": "code",
   "execution_count": null,
   "metadata": {
    "collapsed": true
   },
   "outputs": [],
   "source": []
  },
  {
   "cell_type": "code",
   "execution_count": null,
   "metadata": {
    "collapsed": true
   },
   "outputs": [],
   "source": []
  },
  {
   "cell_type": "code",
   "execution_count": null,
   "metadata": {
    "collapsed": true
   },
   "outputs": [],
   "source": []
  },
  {
   "cell_type": "code",
   "execution_count": null,
   "metadata": {
    "collapsed": false
   },
   "outputs": [],
   "source": []
  },
  {
   "cell_type": "code",
   "execution_count": null,
   "metadata": {
    "collapsed": true
   },
   "outputs": [],
   "source": []
  },
  {
   "cell_type": "code",
   "execution_count": null,
   "metadata": {
    "collapsed": false
   },
   "outputs": [],
   "source": []
  },
  {
   "cell_type": "code",
   "execution_count": null,
   "metadata": {
    "collapsed": false
   },
   "outputs": [],
   "source": []
  },
  {
   "cell_type": "code",
   "execution_count": null,
   "metadata": {
    "collapsed": false
   },
   "outputs": [],
   "source": []
  },
  {
   "cell_type": "code",
   "execution_count": null,
   "metadata": {
    "collapsed": false
   },
   "outputs": [],
   "source": []
  },
  {
   "cell_type": "code",
   "execution_count": null,
   "metadata": {
    "collapsed": true
   },
   "outputs": [],
   "source": []
  },
  {
   "cell_type": "code",
   "execution_count": null,
   "metadata": {
    "collapsed": true
   },
   "outputs": [],
   "source": []
  },
  {
   "cell_type": "code",
   "execution_count": null,
   "metadata": {
    "collapsed": true
   },
   "outputs": [],
   "source": []
  },
  {
   "cell_type": "code",
   "execution_count": null,
   "metadata": {
    "collapsed": true
   },
   "outputs": [],
   "source": []
  },
  {
   "cell_type": "code",
   "execution_count": null,
   "metadata": {
    "collapsed": true
   },
   "outputs": [],
   "source": []
  },
  {
   "cell_type": "code",
   "execution_count": null,
   "metadata": {
    "collapsed": true
   },
   "outputs": [],
   "source": []
  },
  {
   "cell_type": "code",
   "execution_count": null,
   "metadata": {
    "collapsed": true
   },
   "outputs": [],
   "source": []
  },
  {
   "cell_type": "code",
   "execution_count": null,
   "metadata": {
    "collapsed": true
   },
   "outputs": [],
   "source": []
  },
  {
   "cell_type": "code",
   "execution_count": null,
   "metadata": {
    "collapsed": true
   },
   "outputs": [],
   "source": []
  }
 ],
 "metadata": {
  "kernelspec": {
   "display_name": "Python 3",
   "language": "python",
   "name": "python3"
  },
  "language_info": {
   "codemirror_mode": {
    "name": "ipython",
    "version": 3
   },
   "file_extension": ".py",
   "mimetype": "text/x-python",
   "name": "python",
   "nbconvert_exporter": "python",
   "pygments_lexer": "ipython3",
   "version": "3.4.3"
  }
 },
 "nbformat": 4,
 "nbformat_minor": 0
}
