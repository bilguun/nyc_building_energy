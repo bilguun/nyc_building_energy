{
 "cells": [
  {
   "cell_type": "code",
   "execution_count": 1,
   "metadata": {
    "collapsed": false
   },
   "outputs": [
    {
     "name": "stdout",
     "output_type": "stream",
     "text": [
      "Populating the interactive namespace from numpy and matplotlib\n"
     ]
    }
   ],
   "source": [
    "import pandas as pd\n",
    "import zipfile \n",
    "import glob, os\n",
    "import numpy as np\n",
    "import pylab as pl\n",
    "import json\n",
    "import urllib.request\n",
    "import statsmodels.formula.api as smf\n",
    "%pylab inline"
   ]
  },
  {
   "cell_type": "code",
   "execution_count": 6,
   "metadata": {
    "collapsed": true
   },
   "outputs": [],
   "source": [
    "nyc2012 = pd.read_csv('nycBuildings2012.csv')\n",
    "nyc2014 = pd.read_csv('nycBuildings2014.csv')"
   ]
  },
  {
   "cell_type": "code",
   "execution_count": 139,
   "metadata": {
    "collapsed": false
   },
   "outputs": [
    {
     "name": "stdout",
     "output_type": "stream",
     "text": [
      "607643.2999999985\n",
      "666215.500000003\n",
      "8572288.07\n",
      "7130779.199999964\n"
     ]
    }
   ],
   "source": [
    "print(nyc2012.siteEUI.sum())\n",
    "print(nyc2014.siteEUI.sum())\n",
    "print(nyc2012.GHG.sum())\n",
    "print(nyc2014.GHG.sum())"
   ]
  },
  {
   "cell_type": "code",
   "execution_count": 7,
   "metadata": {
    "collapsed": false
   },
   "outputs": [
    {
     "name": "stdout",
     "output_type": "stream",
     "text": [
      "Index(['Unnamed: 0', 'siteEUI', 'floorArea', 'ZipCode', 'numBldgs', 'UnitsRes',\n",
      "       'UnitsTotal', 'YearBuilt', 'LotArea', 'NumFloors', 'ResArea',\n",
      "       'RetailArea', 'AssessTot', 'CommFAR', 'FacilFAR', 'BuiltFAR',\n",
      "       'ResidFAR', 'LotArea.1', 'LotFront', 'LotDepth', 'BldgFront', 'GHG',\n",
      "       'CB2010', 'CT2010', 'water', 'ProxCode', 'LtdHeight', 'HistDist',\n",
      "       'BldgArea', 'ComArea', 'OfficeArea', 'RetailArea.1', 'GarageArea',\n",
      "       'StrgeArea', 'FactryArea', 'OtherArea', 'Reported BINs', 'totalEUI',\n",
      "       'age20', 'age40', 'age60', 'age60ab', 'nonRes', 'income'],\n",
      "      dtype='object')\n",
      "Index(['Unnamed: 0', 'siteEUI', 'ZipCode', 'numBldgs', 'UnitsRes',\n",
      "       'UnitsTotal', 'YearBuilt', 'LotArea', 'NumFloors', 'ResArea',\n",
      "       'RetailArea', 'AssessTot', 'CommFAR', 'FacilFAR', 'BuiltFAR',\n",
      "       'ResidFAR', 'LotArea.1', 'LotFront', 'LotDepth', 'BldgFront',\n",
      "       'DirectGHG', 'InderectGHG', 'floorArea', 'CB2010', 'CT2010', 'GHG',\n",
      "       'water', 'ProxCode', 'LtdHeight', 'HistDist', 'BldgArea', 'ComArea',\n",
      "       'OfficeArea', 'RetailArea.1', 'GarageArea', 'StrgeArea', 'FactryArea',\n",
      "       'OtherArea', 'Reported NYC Building Identification Numbers (BINs)',\n",
      "       'totalEUI', 'age20', 'age40', 'age60', 'age60ab', 'nonRes', 'income'],\n",
      "      dtype='object')\n"
     ]
    }
   ],
   "source": [
    "print(nyc2012.columns)\n",
    "print(nyc2014.columns)"
   ]
  },
  {
   "cell_type": "code",
   "execution_count": 10,
   "metadata": {
    "collapsed": false
   },
   "outputs": [],
   "source": [
    "nyc2012bin = nyc2012.rename(columns={'Reported BINs': 'bins'})\n",
    "nyc2014bin = nyc2014.rename(columns={'Reported NYC Building Identification Numbers (BINs)': 'bins'})"
   ]
  },
  {
   "cell_type": "code",
   "execution_count": 67,
   "metadata": {
    "collapsed": true
   },
   "outputs": [],
   "source": [
    "nyc2012bin.bins = nyc2012bin.bins.astype(str)"
   ]
  },
  {
   "cell_type": "code",
   "execution_count": 82,
   "metadata": {
    "collapsed": false
   },
   "outputs": [],
   "source": [
    "nyc2012bin = nyc2012bin[nyc2012bin['bins'].apply(lambda x: str(x).isnumeric())]"
   ]
  },
  {
   "cell_type": "code",
   "execution_count": 72,
   "metadata": {
    "collapsed": false
   },
   "outputs": [],
   "source": [
    "nyc2014bin = nyc2014bin[nyc2014bin['bins']  >=0 ]"
   ]
  },
  {
   "cell_type": "code",
   "execution_count": 87,
   "metadata": {
    "collapsed": true
   },
   "outputs": [],
   "source": [
    "nyc2012bin.bins = nyc2012bin.bins.astype(float)"
   ]
  },
  {
   "cell_type": "code",
   "execution_count": 86,
   "metadata": {
    "collapsed": false
   },
   "outputs": [],
   "source": [
    "nyc2014bin.bins = nyc2014bin.bins.astype(float)"
   ]
  },
  {
   "cell_type": "code",
   "execution_count": 92,
   "metadata": {
    "collapsed": true
   },
   "outputs": [],
   "source": [
    "nyc2012binEG = nyc2012bin[['bins', 'GHG', 'siteEUI']]\n",
    "nyc2014binEG = nyc2014bin[['bins', 'GHG', 'siteEUI']]"
   ]
  },
  {
   "cell_type": "code",
   "execution_count": 102,
   "metadata": {
    "collapsed": false
   },
   "outputs": [
    {
     "name": "stdout",
     "output_type": "stream",
     "text": [
      "5248\n"
     ]
    }
   ],
   "source": [
    "print(len(unique(nyc2012binEG.bins)))"
   ]
  },
  {
   "cell_type": "code",
   "execution_count": 103,
   "metadata": {
    "collapsed": false
   },
   "outputs": [
    {
     "name": "stdout",
     "output_type": "stream",
     "text": [
      "5247\n"
     ]
    }
   ],
   "source": [
    "print(len(unique(nyc2014binEG.bins)))"
   ]
  },
  {
   "cell_type": "code",
   "execution_count": 106,
   "metadata": {
    "collapsed": false
   },
   "outputs": [
    {
     "name": "stdout",
     "output_type": "stream",
     "text": [
      "5248\n"
     ]
    },
    {
     "name": "stderr",
     "output_type": "stream",
     "text": [
      "/Users/MSAUSI2015/anaconda/lib/python3.4/site-packages/pandas/util/decorators.py:81: FutureWarning: the 'cols' keyword is deprecated, use 'subset' instead\n",
      "  warnings.warn(msg, FutureWarning)\n"
     ]
    }
   ],
   "source": [
    "nyc2012binEG = nyc2012binEG.drop_duplicates(cols='bins', take_last=True)\n",
    "print(len(nyc2012binEG.bins))"
   ]
  },
  {
   "cell_type": "code",
   "execution_count": 131,
   "metadata": {
    "collapsed": false
   },
   "outputs": [
    {
     "name": "stdout",
     "output_type": "stream",
     "text": [
      "5247\n"
     ]
    },
    {
     "name": "stderr",
     "output_type": "stream",
     "text": [
      "/Users/MSAUSI2015/anaconda/lib/python3.4/site-packages/pandas/util/decorators.py:81: FutureWarning: the 'cols' keyword is deprecated, use 'subset' instead\n",
      "  warnings.warn(msg, FutureWarning)\n"
     ]
    }
   ],
   "source": [
    "nyc2014binEG = nyc2014binEG.drop_duplicates(cols='bins', take_last=False)\n",
    "print(len(nyc2014binEG.bins))"
   ]
  },
  {
   "cell_type": "code",
   "execution_count": 142,
   "metadata": {
    "collapsed": false
   },
   "outputs": [
    {
     "name": "stdout",
     "output_type": "stream",
     "text": [
      "76.2687309451218\n",
      "86.65469792262238\n",
      "698.7627362804865\n",
      "746.2858014103323\n"
     ]
    }
   ],
   "source": [
    "print(nyc2012binEG.siteEUI.sum()/len(nyc2012binEG))\n",
    "print(nyc2014binEG.siteEUI.sum()/len(nyc2014binEG))\n",
    "print(nyc2012binEG.GHG.sum()/len(nyc2012binEG))\n",
    "print(nyc2014binEG.GHG.sum()/len(nyc2014binEG))"
   ]
  },
  {
   "cell_type": "code",
   "execution_count": 132,
   "metadata": {
    "collapsed": false
   },
   "outputs": [
    {
     "name": "stdout",
     "output_type": "stream",
     "text": [
      "5248\n",
      "5247\n"
     ]
    },
    {
     "data": {
      "text/plain": [
       "4321"
      ]
     },
     "execution_count": 132,
     "metadata": {},
     "output_type": "execute_result"
    }
   ],
   "source": [
    "print(len(nyc2012binEG))\n",
    "print(len(nyc2014binEG))\n",
    "nyc2014and2012 = pd.merge(nyc2012binEG,nyc2014binEG, how='inner',on='bins', suffixes=('_12', '_14'))\n",
    "len(nyc2014and2012)"
   ]
  },
  {
   "cell_type": "code",
   "execution_count": 133,
   "metadata": {
    "collapsed": false
   },
   "outputs": [],
   "source": [
    "nyc2014and2012['decreaseGHG'] = nyc2014and2012.GHG_12 > nyc2014and2012.GHG_14"
   ]
  },
  {
   "cell_type": "code",
   "execution_count": 134,
   "metadata": {
    "collapsed": false
   },
   "outputs": [],
   "source": [
    "nyc2014and2012['decreaseSiteEUI'] = nyc2014and2012.siteEUI_12 > nyc2014and2012.siteEUI_14"
   ]
  },
  {
   "cell_type": "code",
   "execution_count": 135,
   "metadata": {
    "collapsed": false
   },
   "outputs": [
    {
     "name": "stdout",
     "output_type": "stream",
     "text": [
      "-115442.03000000818\n"
     ]
    }
   ],
   "source": [
    "decreasedGHG = nyc2014and2012.GHG_12.sum() - nyc2014and2012.GHG_14.sum()\n",
    "print(decreasedGHG)"
   ]
  },
  {
   "cell_type": "code",
   "execution_count": 136,
   "metadata": {
    "collapsed": false
   },
   "outputs": [
    {
     "data": {
      "text/html": [
       "<div>\n",
       "<table border=\"1\" class=\"dataframe\">\n",
       "  <thead>\n",
       "    <tr style=\"text-align: right;\">\n",
       "      <th></th>\n",
       "      <th>bins</th>\n",
       "      <th>GHG_12</th>\n",
       "      <th>siteEUI_12</th>\n",
       "      <th>GHG_14</th>\n",
       "      <th>siteEUI_14</th>\n",
       "      <th>decreaseGHG</th>\n",
       "      <th>decreaseSiteEUI</th>\n",
       "    </tr>\n",
       "  </thead>\n",
       "  <tbody>\n",
       "    <tr>\n",
       "      <th>0</th>\n",
       "      <td>1028241</td>\n",
       "      <td>330.36</td>\n",
       "      <td>62.4</td>\n",
       "      <td>339.1</td>\n",
       "      <td>65.4</td>\n",
       "      <td>False</td>\n",
       "      <td>False</td>\n",
       "    </tr>\n",
       "    <tr>\n",
       "      <th>1</th>\n",
       "      <td>3183899</td>\n",
       "      <td>430.36</td>\n",
       "      <td>49.7</td>\n",
       "      <td>510.6</td>\n",
       "      <td>66.9</td>\n",
       "      <td>False</td>\n",
       "      <td>False</td>\n",
       "    </tr>\n",
       "    <tr>\n",
       "      <th>2</th>\n",
       "      <td>1031130</td>\n",
       "      <td>315.64</td>\n",
       "      <td>60.9</td>\n",
       "      <td>331.0</td>\n",
       "      <td>68.6</td>\n",
       "      <td>False</td>\n",
       "      <td>False</td>\n",
       "    </tr>\n",
       "    <tr>\n",
       "      <th>3</th>\n",
       "      <td>1086174</td>\n",
       "      <td>2633.83</td>\n",
       "      <td>112.4</td>\n",
       "      <td>2456.7</td>\n",
       "      <td>108.7</td>\n",
       "      <td>True</td>\n",
       "      <td>True</td>\n",
       "    </tr>\n",
       "    <tr>\n",
       "      <th>4</th>\n",
       "      <td>1086547</td>\n",
       "      <td>1853.76</td>\n",
       "      <td>96.3</td>\n",
       "      <td>1676.8</td>\n",
       "      <td>89.9</td>\n",
       "      <td>True</td>\n",
       "      <td>True</td>\n",
       "    </tr>\n",
       "  </tbody>\n",
       "</table>\n",
       "</div>"
      ],
      "text/plain": [
       "      bins   GHG_12  siteEUI_12  GHG_14  siteEUI_14 decreaseGHG  \\\n",
       "0  1028241   330.36        62.4   339.1        65.4       False   \n",
       "1  3183899   430.36        49.7   510.6        66.9       False   \n",
       "2  1031130   315.64        60.9   331.0        68.6       False   \n",
       "3  1086174  2633.83       112.4  2456.7       108.7        True   \n",
       "4  1086547  1853.76        96.3  1676.8        89.9        True   \n",
       "\n",
       "  decreaseSiteEUI  \n",
       "0           False  \n",
       "1           False  \n",
       "2           False  \n",
       "3            True  \n",
       "4            True  "
      ]
     },
     "execution_count": 136,
     "metadata": {},
     "output_type": "execute_result"
    }
   ],
   "source": [
    "nyc2014and2012.head()"
   ]
  },
  {
   "cell_type": "code",
   "execution_count": 137,
   "metadata": {
    "collapsed": false
   },
   "outputs": [
    {
     "name": "stdout",
     "output_type": "stream",
     "text": [
      "-10.436264753529406\n"
     ]
    }
   ],
   "source": [
    "decreasedEUI = nyc2014and2012.siteEUI_12.sum() - nyc2014and2012.siteEUI_14.sum()\n",
    "print(decreasedEUI/len(nyc2014and2012))"
   ]
  },
  {
   "cell_type": "code",
   "execution_count": null,
   "metadata": {
    "collapsed": true
   },
   "outputs": [],
   "source": []
  },
  {
   "cell_type": "code",
   "execution_count": null,
   "metadata": {
    "collapsed": true
   },
   "outputs": [],
   "source": []
  },
  {
   "cell_type": "code",
   "execution_count": null,
   "metadata": {
    "collapsed": true
   },
   "outputs": [],
   "source": []
  }
 ],
 "metadata": {
  "kernelspec": {
   "display_name": "Python 3",
   "language": "python",
   "name": "python3"
  },
  "language_info": {
   "codemirror_mode": {
    "name": "ipython",
    "version": 3
   },
   "file_extension": ".py",
   "mimetype": "text/x-python",
   "name": "python",
   "nbconvert_exporter": "python",
   "pygments_lexer": "ipython3",
   "version": "3.4.3"
  }
 },
 "nbformat": 4,
 "nbformat_minor": 0
}
